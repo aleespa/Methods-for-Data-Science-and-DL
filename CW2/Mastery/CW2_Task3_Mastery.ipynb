{
  "nbformat": 4,
  "nbformat_minor": 0,
  "metadata": {
    "colab": {
      "name": "CW2_Task3_Mastery.ipynb",
      "provenance": [],
      "collapsed_sections": []
    },
    "kernelspec": {
      "name": "python3",
      "display_name": "Python 3"
    },
    "accelerator": "GPU"
  },
  "cells": [
    {
      "cell_type": "markdown",
      "metadata": {
        "id": "HijBJ8ArizFD"
      },
      "source": [
        "# CW 2 Task 3 (Mastery component)\n",
        "\n",
        "*This Task is only for MSc and MSci students.*\n",
        "\n",
        "We are interested in finding communities in the karate club network using modularity maximistion with spectral partitioning. You should be able to re-use some of the code that is available in the realted coding tasks.\n",
        "\n",
        "We want you to:\n",
        "1. Find the spectral partition of the network (using the normalised Laplacian).\n",
        "2. Calculate the modularity of the spectral partition.\n",
        "3. Then we want to partition further by looking at each subgraph (defined as a community). We take the first sub-graph and compute its spectral partition. Combining this split with the original partition, does the modularity increase or decrease? If it increases then keep this partition. Do this for each subgraph.\n",
        "4. Stop when further partitions don't improve the modularity."
      ]
    },
    {
      "cell_type": "code",
      "metadata": {
        "id": "YFuJG0jajIHs"
      },
      "source": [
        "# import necessary packages\n",
        "\n",
        "import networkx as nx\n",
        "import numpy as np\n",
        "from scipy.sparse import linalg\n",
        "import matplotlib.pyplot as plt\n",
        "import itertools\n",
        "import pandas as pd"
      ],
      "execution_count": null,
      "outputs": []
    },
    {
      "cell_type": "code",
      "metadata": {
        "id": "75Ene2K0iyzK"
      },
      "source": [
        "# call the karate club graph\n",
        "g = nx.karate_club_graph()\n",
        "\n",
        "# plot the graph\n",
        "pos = nx.spring_layout(g)\n",
        "nx.draw(g, pos=pos)\n",
        "\n",
        "# return the adjacency matrix as a NumPy array\n",
        "A = nx.to_numpy_array(g)"
      ],
      "execution_count": null,
      "outputs": []
    },
    {
      "cell_type": "code",
      "metadata": {
        "id": "G9eE9lxFiywk"
      },
      "source": [
        "# EDIT THESE FUNCTIONS\n",
        "\n",
        "def get_subgraph(A, nodes):\n",
        "    \"\"\" get the subgraph based on a list of nodes \"\"\"\n",
        "    A_subgraph = ... ## <-- EDIT THIS LINE\n",
        "    return A_subgraph # return a 2D NumPy array\n",
        "\n",
        "\n",
        "def get_laplacian(A):\n",
        "    \"\"\" Get Laplacian of my network \"\"\"\n",
        "    weighted_degree = ...  ## <-- EDIT THESE LINES\n",
        "    ...\n",
        "    return L_norm # return a 2D NumPy array\n",
        "\n",
        "\n",
        "def get_spectral_partition(A):\n",
        "    \"\"\" Compute spectral partition with Laplacian \"\"\"\n",
        "    L = ...  ## <-- EDIT THESE LINES\n",
        "    ...\n",
        "    return spectral_partition # return a 1D NumPy array\n",
        "\n",
        "def get_modularity(A, partition):\n",
        "    \"\"\" Compute the Modularity of partition with network \"\"\"\n",
        "    degree_weighted = ...   ## <-- EDIT THESE LINES\n",
        "    ...\n",
        "    return Q # return a float\n",
        "\n",
        "def set_new_partition(possible_partition, sub_partition, idx_nodes, comm_id):   \n",
        "    \"\"\" Combine original partition with new subgraph partition \"\"\"\n",
        "    sub_partition[sub_partition==0] = comm_id\n",
        "    sub_partition[sub_partition==1] = comm_id+1   \n",
        "    possible_partition[idx_nodes] = sub_partition\n",
        "    return possible_partition # return a NumPy array"
      ],
      "execution_count": null,
      "outputs": []
    },
    {
      "cell_type": "code",
      "metadata": {
        "id": "6-lTLECZiyst"
      },
      "source": [
        "increasing_q = True\n",
        "\n",
        "# initial spectral partition\n",
        "partition = get_spectral_partition(A)\n",
        "Q = get_modularity(A, partition)\n",
        "print('Initial Q:', Q)\n",
        "comm_id = 0\n",
        "\n",
        "# loop over until modularity doesn't increase further\n",
        "while increasing_q:\n",
        "    \n",
        "    # define the original modularity\n",
        "    Q_orig = Q\n",
        "    \n",
        "    # finding unique communities in partition\n",
        "    unique_comms = np.unique(partition)   \n",
        "    \n",
        "    # loop over each community in the partition\n",
        "    for comm in unique_comms:\n",
        "        \n",
        "        # make a copy of best partition so far  \n",
        "        possible_partition = partition.copy()\n",
        "        \n",
        "        # find index of all nodes in community\n",
        "        idx_nodes = np.where(partition==comm)[0]\n",
        "        \n",
        "        # get subgraph of graph\n",
        "        A_sub = ...  ## <-- EDIT THIS LINE\n",
        "        \n",
        "        # compute spectral partition of subgraph\n",
        "        sub_partition = ...  ## <-- EDIT THIS LINE\n",
        "        \n",
        "        # iterating comm id\n",
        "        comm_id += 2\n",
        "        \n",
        "        # define new partition\n",
        "        possible_partition = set_new_partition(possible_partition, sub_partition, idx_nodes, comm_id)\n",
        "        \n",
        "        # compute modularity of new possible partition\n",
        "        Q_new = ...  ## <-- EDIT THIS LINE\n",
        "        \n",
        "        # if the partition of subgraph improved modularity then keep it\n",
        "        if Q_new>Q:\n",
        "            partition = possible_partition.copy()\n",
        "            print('New Q: {}, Partition: {}'.format(Q_new, partition))\n",
        "            Q = Q_new\n",
        "            \n",
        "    # break out of the while loop if modularity isn't increasing\n",
        "    if not Q>Q_orig: \n",
        "        increasing_q = False\n",
        "        \n",
        "print('------------------')        \n",
        "print('Optimal number of clusters: {}'.format(np.unique(partition).shape[0]))"
      ],
      "execution_count": null,
      "outputs": []
    },
    {
      "cell_type": "code",
      "metadata": {
        "id": "i9rxYIv4iypu"
      },
      "source": [
        ""
      ],
      "execution_count": null,
      "outputs": []
    }
  ]
}