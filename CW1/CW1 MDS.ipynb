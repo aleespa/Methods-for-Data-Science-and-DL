{
 "cells": [
  {
   "cell_type": "code",
   "execution_count": 1,
   "id": "absent-privacy",
   "metadata": {},
   "outputs": [],
   "source": [
    "import numpy as np\n",
    "import matplotlib.pylab as plt\n",
    "from IPython.display import display\n",
    "import pandas as pd\n",
    "import seaborn as sns"
   ]
  },
  {
   "cell_type": "markdown",
   "id": "accomplished-blues",
   "metadata": {},
   "source": [
    "### Index\n",
    "\n",
    "[Task 1: Regression](#Task-1:-Regression)\n",
    "\n",
    "[1.1 Linear regression](#1.1-Linear-regression)  \n",
    "\n",
    "[1.2 Ridge regression](#1.2-Ridge-regression)\n",
    "\n",
    "[1.3 Regression with k nearest neighbours](#1.3-Regression-with-k-nearest-neighbours)\n",
    "\n",
    "[Task 2: Classification](#Task-2:-Classification)\n",
    "\n",
    "[2.1 Logistic regression](#2.1-Logistic-regression)\n",
    "\n",
    "[2.2 Random forest](#2.2-Random-forest)\n",
    "\n",
    "[2.3 Support vector machines](#2.3-Support-vector-machines)"
   ]
  },
  {
   "cell_type": "markdown",
   "id": "varied-phase",
   "metadata": {},
   "source": [
    "# Task 1: Regression\n",
    "\n",
    "We first read the data set an define the name of the columns, we have 404 observations and 19 variables, including the first variable that is 1 for every row"
   ]
  },
  {
   "cell_type": "code",
   "execution_count": 196,
   "id": "legislative-kitchen",
   "metadata": {},
   "outputs": [
    {
     "data": {
      "text/html": [
       "<div>\n",
       "<style scoped>\n",
       "    .dataframe tbody tr th:only-of-type {\n",
       "        vertical-align: middle;\n",
       "    }\n",
       "\n",
       "    .dataframe tbody tr th {\n",
       "        vertical-align: top;\n",
       "    }\n",
       "\n",
       "    .dataframe thead th {\n",
       "        text-align: right;\n",
       "    }\n",
       "</style>\n",
       "<table border=\"1\" class=\"dataframe\">\n",
       "  <thead>\n",
       "    <tr style=\"text-align: right;\">\n",
       "      <th></th>\n",
       "      <th>x1</th>\n",
       "      <th>x2</th>\n",
       "      <th>x3</th>\n",
       "      <th>x4</th>\n",
       "      <th>x5</th>\n",
       "      <th>x6</th>\n",
       "      <th>x7</th>\n",
       "      <th>x8</th>\n",
       "      <th>x9</th>\n",
       "      <th>x10</th>\n",
       "      <th>x11</th>\n",
       "      <th>x12</th>\n",
       "      <th>x13</th>\n",
       "      <th>x14</th>\n",
       "      <th>x15</th>\n",
       "      <th>x16</th>\n",
       "      <th>x17</th>\n",
       "      <th>x18</th>\n",
       "      <th>y</th>\n",
       "    </tr>\n",
       "  </thead>\n",
       "  <tbody>\n",
       "    <tr>\n",
       "      <th>0</th>\n",
       "      <td>1.0</td>\n",
       "      <td>-0.413447</td>\n",
       "      <td>-0.487722</td>\n",
       "      <td>0.115738</td>\n",
       "      <td>0.115735</td>\n",
       "      <td>0.158124</td>\n",
       "      <td>0.984960</td>\n",
       "      <td>0.797449</td>\n",
       "      <td>-0.773684</td>\n",
       "      <td>0.985161</td>\n",
       "      <td>-0.803212</td>\n",
       "      <td>1.176466</td>\n",
       "      <td>0.441052</td>\n",
       "      <td>-0.983048</td>\n",
       "      <td>0.158124</td>\n",
       "      <td>1.176469</td>\n",
       "      <td>-0.487723</td>\n",
       "      <td>-0.773598</td>\n",
       "      <td>23.9</td>\n",
       "    </tr>\n",
       "    <tr>\n",
       "      <th>1</th>\n",
       "      <td>1.0</td>\n",
       "      <td>-0.412788</td>\n",
       "      <td>-0.487722</td>\n",
       "      <td>-1.034027</td>\n",
       "      <td>-1.034035</td>\n",
       "      <td>-0.386091</td>\n",
       "      <td>0.819700</td>\n",
       "      <td>0.207144</td>\n",
       "      <td>-0.418203</td>\n",
       "      <td>0.819617</td>\n",
       "      <td>-0.666608</td>\n",
       "      <td>-0.857929</td>\n",
       "      <td>0.379323</td>\n",
       "      <td>-0.803625</td>\n",
       "      <td>-0.386091</td>\n",
       "      <td>-0.857939</td>\n",
       "      <td>-0.487723</td>\n",
       "      <td>-0.418305</td>\n",
       "      <td>29.9</td>\n",
       "    </tr>\n",
       "    <tr>\n",
       "      <th>2</th>\n",
       "      <td>1.0</td>\n",
       "      <td>-0.387983</td>\n",
       "      <td>-0.487722</td>\n",
       "      <td>-0.211099</td>\n",
       "      <td>-0.211084</td>\n",
       "      <td>0.261784</td>\n",
       "      <td>-0.510932</td>\n",
       "      <td>-0.923682</td>\n",
       "      <td>-0.671859</td>\n",
       "      <td>-0.511320</td>\n",
       "      <td>-0.102376</td>\n",
       "      <td>0.344213</td>\n",
       "      <td>0.441052</td>\n",
       "      <td>0.131334</td>\n",
       "      <td>0.261784</td>\n",
       "      <td>0.344218</td>\n",
       "      <td>-0.487727</td>\n",
       "      <td>-0.671863</td>\n",
       "      <td>24.5</td>\n",
       "    </tr>\n",
       "    <tr>\n",
       "      <th>3</th>\n",
       "      <td>1.0</td>\n",
       "      <td>-0.347952</td>\n",
       "      <td>-0.487722</td>\n",
       "      <td>-0.720322</td>\n",
       "      <td>-0.720323</td>\n",
       "      <td>-0.412006</td>\n",
       "      <td>0.846768</td>\n",
       "      <td>0.324494</td>\n",
       "      <td>-0.248591</td>\n",
       "      <td>0.846699</td>\n",
       "      <td>-0.601276</td>\n",
       "      <td>-0.488039</td>\n",
       "      <td>0.369674</td>\n",
       "      <td>-0.381702</td>\n",
       "      <td>-0.412006</td>\n",
       "      <td>-0.488023</td>\n",
       "      <td>-0.487722</td>\n",
       "      <td>-0.248524</td>\n",
       "      <td>27.5</td>\n",
       "    </tr>\n",
       "    <tr>\n",
       "      <th>4</th>\n",
       "      <td>1.0</td>\n",
       "      <td>-0.330562</td>\n",
       "      <td>-0.487722</td>\n",
       "      <td>-0.437258</td>\n",
       "      <td>-0.437249</td>\n",
       "      <td>-0.144217</td>\n",
       "      <td>0.299699</td>\n",
       "      <td>0.918355</td>\n",
       "      <td>0.313581</td>\n",
       "      <td>0.299802</td>\n",
       "      <td>-0.601276</td>\n",
       "      <td>1.176466</td>\n",
       "      <td>0.342811</td>\n",
       "      <td>0.020597</td>\n",
       "      <td>-0.144217</td>\n",
       "      <td>1.176460</td>\n",
       "      <td>-0.487724</td>\n",
       "      <td>0.313542</td>\n",
       "      <td>18.4</td>\n",
       "    </tr>\n",
       "  </tbody>\n",
       "</table>\n",
       "</div>"
      ],
      "text/plain": [
       "    x1        x2        x3        x4        x5        x6        x7        x8  \\\n",
       "0  1.0 -0.413447 -0.487722  0.115738  0.115735  0.158124  0.984960  0.797449   \n",
       "1  1.0 -0.412788 -0.487722 -1.034027 -1.034035 -0.386091  0.819700  0.207144   \n",
       "2  1.0 -0.387983 -0.487722 -0.211099 -0.211084  0.261784 -0.510932 -0.923682   \n",
       "3  1.0 -0.347952 -0.487722 -0.720322 -0.720323 -0.412006  0.846768  0.324494   \n",
       "4  1.0 -0.330562 -0.487722 -0.437258 -0.437249 -0.144217  0.299699  0.918355   \n",
       "\n",
       "         x9       x10       x11       x12       x13       x14       x15  \\\n",
       "0 -0.773684  0.985161 -0.803212  1.176466  0.441052 -0.983048  0.158124   \n",
       "1 -0.418203  0.819617 -0.666608 -0.857929  0.379323 -0.803625 -0.386091   \n",
       "2 -0.671859 -0.511320 -0.102376  0.344213  0.441052  0.131334  0.261784   \n",
       "3 -0.248591  0.846699 -0.601276 -0.488039  0.369674 -0.381702 -0.412006   \n",
       "4  0.313581  0.299802 -0.601276  1.176466  0.342811  0.020597 -0.144217   \n",
       "\n",
       "        x16       x17       x18     y  \n",
       "0  1.176469 -0.487723 -0.773598  23.9  \n",
       "1 -0.857939 -0.487723 -0.418305  29.9  \n",
       "2  0.344218 -0.487727 -0.671863  24.5  \n",
       "3 -0.488023 -0.487722 -0.248524  27.5  \n",
       "4  1.176460 -0.487724  0.313542  18.4  "
      ]
     },
     "metadata": {},
     "output_type": "display_data"
    },
    {
     "name": "stdout",
     "output_type": "stream",
     "text": [
      "(404, 19)\n"
     ]
    }
   ],
   "source": [
    "RTrain = pd.read_csv('regression_train.csv',header=None)\n",
    "RTrain.columns = [f'x{i+1}' for i in range(RTrain.shape[1]-1)] + ['y']\n",
    "display(RTrain.head())\n",
    "print(RTrain.shape)"
   ]
  },
  {
   "cell_type": "markdown",
   "id": "statistical-miracle",
   "metadata": {},
   "source": [
    "If we analyze the distribution of the variables we find the next set of histograms, we can see that the pairs $(x_7,x_{10})$ and $(x_6,x_{14}$) and $(x_9, x_{18})$ have a very similar distribution"
   ]
  },
  {
   "cell_type": "code",
   "execution_count": 197,
   "id": "threatened-wagner",
   "metadata": {},
   "outputs": [
    {
     "data": {
      "image/png": "[encoded data removed]",
      "text/plain": [
       "<Figure size 1080x660 with 18 Axes>"
      ]
     },
     "metadata": {},
     "output_type": "display_data"
    }
   ],
   "source": [
    "fig, axs = plt.subplots(3,6, figsize=(18, 11), facecolor='w', edgecolor='k',dpi=60)\n",
    "axs = axs.ravel()\n",
    "for i,col in enumerate(RTrain.columns[:-1]):\n",
    "    axs[i].hist(RTrain[col],color='red'*(col=='y') + 'black'*(col!='y'),alpha=0.6)\n",
    "    axs[i].set_xlabel(col)\n",
    "    axs[i].set_ylim(0,350)\n",
    "    axs[i].grid(alpha=0.25)"
   ]
  },
  {
   "cell_type": "markdown",
   "id": "otherwise-vancouver",
   "metadata": {},
   "source": [
    "If we compute the correlation we can see that the pairs are completely correlated "
   ]
  },
  {
   "cell_type": "code",
   "execution_count": 198,
   "id": "twenty-carolina",
   "metadata": {},
   "outputs": [
    {
     "data": {
      "text/plain": [
       "<matplotlib.colorbar.Colorbar at 0x258c6fe1808>"
      ]
     },
     "execution_count": 198,
     "metadata": {},
     "output_type": "execute_result"
    },
    {
     "data": {
      "image/png": "[encoded data removed]",
      "text/plain": [
       "<Figure size 432x288 with 2 Axes>"
      ]
     },
     "metadata": {
      "needs_background": "light"
     },
     "output_type": "display_data"
    }
   ],
   "source": [
    "fig, ax = plt.subplots(1,1)\n",
    "img= plt.imshow(RTrain.corr())\n",
    "fig.colorbar(img,label='Correlation')"
   ]
  },
  {
   "cell_type": "code",
   "execution_count": 199,
   "id": "funky-browser",
   "metadata": {
    "scrolled": false
   },
   "outputs": [],
   "source": [
    "RTest = pd.read_csv('regression_test.csv',header=None)\n",
    "RTest.columns = [f'x{i+1}' for i in range(RTest.shape[1]-1)] + ['y']"
   ]
  },
  {
   "cell_type": "code",
   "execution_count": 200,
   "id": "first-metallic",
   "metadata": {},
   "outputs": [],
   "source": [
    "X  = np.array(RTrain[[col for col in RTrain.columns if col[0] == 'x']])\n",
    "y  = np.array(RTrain['y'])\n",
    "Xt = np.array(RTest[[col for col in RTest.columns if col[0] == 'x']])\n",
    "yt = np.array(RTest['y'])"
   ]
  },
  {
   "cell_type": "markdown",
   "id": "driving-prairie",
   "metadata": {},
   "source": [
    "## 1.1 Linear regression\n",
    "\n",
    "We define the functions in order to perform the regression and the metrics needed"
   ]
  },
  {
   "cell_type": "code",
   "execution_count": 2,
   "id": "pursuant-arizona",
   "metadata": {},
   "outputs": [],
   "source": [
    "def standardise(X):\n",
    "    \"\"\"\n",
    "    Standarize a set of variables and \n",
    "    returns the values of the mean and\n",
    "    the standard deviation\n",
    "    \n",
    "    :param X :     a DxN numpy array\n",
    "    \n",
    "    :return X_std: a DxN numpy array - standarize matrix\n",
    "    :return mu:    a Nx1 numpy array - mean\n",
    "    :return std:   a Nx1 numpy array - standard deviation \n",
    "    \"\"\"\n",
    "    mu = np.mean(X,axis=0)\n",
    "    std = np.std(X,axis=0)\n",
    "    return (X-mu)/std, mu,std \n",
    "def MSE(y1,y2):\n",
    "    \"\"\"\n",
    "    Computes the Mean Square Error\n",
    "    of a pair of vectors y1, y2\n",
    "    \n",
    "    :param y1 :  a mx1 numpy array\n",
    "    :param y2 :  a mx1 numpy array\n",
    "    \n",
    "    :return mse: a float - MSE\n",
    "    \"\"\"\n",
    "    return(sum((y1 - y2)**2)/ len(y2))\n",
    "def R2(y1,y2):\n",
    "    \"\"\"\n",
    "    Computes the R^2 score\n",
    "    of a pair of vectors y1, y2\n",
    "    \n",
    "    :param y1 : a mx1 numpy array\n",
    "    :param y2 : a mx1 numpy array\n",
    "    \n",
    "    :return r2: a float - R2\n",
    "    \"\"\"\n",
    "    return(1- sum((y1 - y2)**2)/sum((y1 - np.mean(y1))**2))\n",
    "def max_lik_estimate(X, y):\n",
    "    \"\"\"\n",
    "    Computes the the parameter beta maximizing \n",
    "    the likelihood of the parameter\n",
    "    \n",
    "    :param X : an NxD numpy array \n",
    "    :param y : an Nx1 numpy array \n",
    "    \n",
    "    :return beta_ml: an Dx1 numpy array - Estimated parameter\n",
    "    \"\"\"\n",
    "    N, D = X.shape\n",
    "    beta = np.zeros((D, 1)) \n",
    "    beta_ml = np.linalg.solve(X.T @ X ,X.T @ y) \n",
    "    \n",
    "    return beta_ml\n",
    "def predict_with_estimate(X, beta):\n",
    "    \"\"\"\n",
    "    Computes the prediction of a given the\n",
    "    estimation of beta and the observations\n",
    "    \n",
    "    :param X :    an NxD numpy array\n",
    "    :param beta : an Dx1 numpy array    \n",
    "    \n",
    "    :return y_pred: an Nx1 numpy array - Prediction\n",
    "    \"\"\"\n",
    "    N, D = X.shape\n",
    "    y_pred = X @ beta\n",
    "    \n",
    "    return y_pred "
   ]
  },
  {
   "cell_type": "code",
   "execution_count": 202,
   "id": "ancient-channels",
   "metadata": {},
   "outputs": [
    {
     "name": "stdout",
     "output_type": "stream",
     "text": [
      "β_0 = 23.02\n",
      "β_1 = -0.64\n",
      "β_2 = -47996.91\n",
      "β_3 = -40007.85\n",
      "β_4 = 40007.69\n",
      "β_5 = 927163399.35\n",
      "β_6 = 984.82\n",
      "β_7 = -0.16\n",
      "β_8 = 1589.80\n",
      "β_9 = -981.70\n",
      "β_10 = -0.05\n",
      "β_11 = -6047.61\n",
      "β_12 = 0.70\n",
      "β_13 = -3.69\n",
      "β_14 = -927163401.12\n",
      "β_15 = 6045.82\n",
      "β_16 = 47998.12\n",
      "β_17 = -1593.35\n"
     ]
    }
   ],
   "source": [
    "X_std = X.copy()\n",
    "X_std[:,1:],mu,std = standardise(X_std[:,1:])\n",
    "\n",
    "Xt_std = Xt.copy()\n",
    "Xt_std[:,1:] = (Xt_std[:,1:] - mu) / std\n",
    "\n",
    "beta = max_lik_estimate(X_std, y)\n",
    "for i,b in enumerate(beta):\n",
    "    print(f\"β_{i} = {b:.2f}\")"
   ]
  },
  {
   "cell_type": "markdown",
   "id": "hispanic-background",
   "metadata": {},
   "source": [
    "The parameters have very different sizes although we standarize the variables, we can also see that the correlated variables cancel each other, for example $\\beta_5$ and $\\beta_{14}$ "
   ]
  },
  {
   "cell_type": "code",
   "execution_count": 203,
   "id": "driving-surveillance",
   "metadata": {},
   "outputs": [
    {
     "data": {
      "image/png": "[encoded data removed]",
      "text/plain": [
       "<Figure size 432x288 with 1 Axes>"
      ]
     },
     "metadata": {
      "needs_background": "light"
     },
     "output_type": "display_data"
    }
   ],
   "source": [
    "y_hat = predict_with_estimate(X_std,beta)\n",
    "yt_hat = predict_with_estimate(Xt_std,beta)\n",
    "_ = sns.kdeplot((y - y_hat),fill=True,color='red')\n",
    "_ = sns.kdeplot((yt - yt_hat),fill=True,color='k')\n",
    "_ = plt.title(\"Distribution of $y-\\hat{y}$\")\n",
    "_ = plt.grid(alpha=0.2)\n",
    "_ = plt.xlabel('$y-\\hat{y}$')"
   ]
  },
  {
   "cell_type": "markdown",
   "id": "advisory-investing",
   "metadata": {},
   "source": [
    "We compute the prediction of the complete data set used for training and the data set for testing."
   ]
  },
  {
   "cell_type": "code",
   "execution_count": 204,
   "id": "effective-municipality",
   "metadata": {},
   "outputs": [
    {
     "name": "stdout",
     "output_type": "stream",
     "text": [
      "MSE in train data = 24.369\n",
      "MSE in test data  = 19.567\n",
      "R2 in train data  = 72.858%\n",
      "R2 in test data   = 66.570%\n"
     ]
    }
   ],
   "source": [
    "MSE_train = MSE(y,y_hat)\n",
    "MSE_test  = MSE(yt,yt_hat)\n",
    "R2_train = R2(y,y_hat)\n",
    "R2_test = R2(yt,yt_hat)\n",
    "print(f\"MSE in train data = {MSE_train:.3f}\")\n",
    "print(f\"MSE in test data  = {MSE_test:.3f}\")\n",
    "print(f\"R2 in train data  = {100*R2_train:.3f}%\")\n",
    "print(f\"R2 in test data   = {100*R2_test:.3f}%\")"
   ]
  },
  {
   "cell_type": "markdown",
   "id": "ordinary-burke",
   "metadata": {},
   "source": [
    "The mean square error for the training is higher than for the testing dataset, that mean that the model is not overfitting the data in the sense that it can produces predictions as good as the one in the observable dataset for training."
   ]
  },
  {
   "cell_type": "markdown",
   "id": "dedicated-karma",
   "metadata": {},
   "source": [
    "## 1.2 Ridge regression"
   ]
  },
  {
   "cell_type": "code",
   "execution_count": 72,
   "id": "unknown-kelly",
   "metadata": {},
   "outputs": [],
   "source": [
    "def ridge_estimate(X, y, penalty):\n",
    "    \"\"\"\n",
    "    Computes the optimal beta given \n",
    "    the penalty and the observation \n",
    "    data X, y\n",
    "    \n",
    "    :param X : an NxD numpy array\n",
    "    :param y : an Nx1 numpy array  \n",
    "    :param penalty: a float\n",
    "    \n",
    "    :return beta_ridge: an Dx1 numpy array - Estimated parameter\n",
    "    \"\"\"\n",
    "    N, D = X.shape\n",
    "    I = np.identity(D)\n",
    "    beta_ridge = np.linalg.solve(X.T @ X + penalty * I, X.T @ y )\n",
    "    return beta_ridge\n",
    "def data_split(X,y,T):\n",
    "    \"\"\"\n",
    "    Split the data into T random\n",
    "    subsets of almost equal size\n",
    "\n",
    "    :param X : an NxD numpy array\n",
    "    :param y : an Nx1 numpy array  \n",
    "    :param T:  a integer\n",
    "    \n",
    "    :return Xs: a list of T NxD numpy arrays - List of partitions of X\n",
    "    :return ys: a list of T Nx1 numpy arrays - List of partitions of y\n",
    "    \"\"\"\n",
    "    N, D = X.shape\n",
    "    R = np.random.randint(low=0,high=T,size=N)\n",
    "    Xs = [X[R==i,:] for i in range(T)]\n",
    "    ys = [y[R==i] for i in range(T)]\n",
    "    return(Xs,ys)\n",
    "def cv_penalty(X,y,T,penalties):\n",
    "    \"\"\"\n",
    "    Split the data into T random \n",
    "    subsets of almost equal size and\n",
    "    computes the cross validation of \n",
    "    each of the folds, it computes the \n",
    "    optimal penalty for the ridge linear\n",
    "    regression given a list of posible \n",
    "    penalties\n",
    "\n",
    "    :param X : an NxD numpy array\n",
    "    :param y : an Nx1 numpy array  \n",
    "    :param T:  a integer\n",
    "    :param penalties: a Px1 numpy array\n",
    "    \n",
    "    :return op_penalties: a float\n",
    "    :return mse_penalty: a Px1 numpy array\n",
    "    \"\"\"\n",
    "    np.random.seed(100)\n",
    "    Xs,ys = data_split(X,y,T)\n",
    "    mse_penalty = []\n",
    "    for p in penalties:\n",
    "        mse_s = []\n",
    "        for t in range(T):\n",
    "            Xcs = np.concatenate([x for i,x in enumerate(Xs) if i !=t])\n",
    "            ycs = np.concatenate([y for i,y in enumerate(ys) if i !=t])\n",
    "            Xcs_std = Xcs.copy()\n",
    "            Xcs_std[:,1:],mu,std = standardise(Xcs_std[:,1:])\n",
    "\n",
    "            beta_t = ridge_estimate(Xcs_std,ycs,penalty=p)\n",
    "\n",
    "            Xs_std = Xs[t].copy()\n",
    "            Xs_std[:,1:] = (Xs_std[:,1:] - mu) / std  \n",
    "\n",
    "            ycs_hat = predict_with_estimate(Xs_std,beta_t)\n",
    "\n",
    "            mse_s.append(MSE(ys[t],ycs_hat))\n",
    "        mse_penalty.append(np.mean(mse_s))\n",
    "        \n",
    "    return(penalties[np.argmin(mse_penalty)],mse_penalty)"
   ]
  },
  {
   "cell_type": "code",
   "execution_count": 206,
   "id": "hawaiian-arthritis",
   "metadata": {},
   "outputs": [
    {
     "data": {
      "image/png": "[encoded data removed]",
      "text/plain": [
       "<Figure size 432x288 with 1 Axes>"
      ]
     },
     "metadata": {
      "needs_background": "light"
     },
     "output_type": "display_data"
    }
   ],
   "source": [
    "T = 5\n",
    "penalties = np.linspace(0.1,4)\n",
    "op_penalty,mse_penalty = cv_penalty(X,y,T,penalties)\n",
    "_ = plt.plot(penalties,mse_penalty,color='red',lw=2)\n",
    "_ = plt.grid(alpha=0.2)\n",
    "_ = plt.scatter([op_penalty],[min(mse_penalty)],zorder=10,s=40,color='b')\n",
    "_ = plt.title(f\"Optimal Penalty = {op_penalty:.2f}\")\n",
    "_ = plt.xlabel(\"Penalty\")\n",
    "_ = plt.ylabel('$\\langle MSE \\\\rangle$')"
   ]
  },
  {
   "cell_type": "code",
   "execution_count": 207,
   "id": "prepared-combination",
   "metadata": {},
   "outputs": [
    {
     "name": "stdout",
     "output_type": "stream",
     "text": [
      "β_0 = 22.44\n",
      "β_1 = -0.64\n",
      "β_2 = 0.57\n",
      "β_3 = -0.10\n",
      "β_4 = -0.10\n",
      "β_5 = -0.84\n",
      "β_6 = 1.58\n",
      "β_7 = -0.15\n",
      "β_8 = -1.73\n",
      "β_9 = 1.56\n",
      "β_10 = -0.09\n",
      "β_11 = -0.87\n",
      "β_12 = 0.82\n",
      "β_13 = -3.63\n",
      "β_14 = -0.84\n",
      "β_15 = -0.87\n",
      "β_16 = 0.57\n",
      "β_17 = -1.73\n"
     ]
    }
   ],
   "source": [
    "beta = ridge_estimate(X,y,penalty=op_penalty)\n",
    "for i,b in enumerate(beta):\n",
    "    print(f\"β_{i} = {b:.2f}\")"
   ]
  },
  {
   "cell_type": "markdown",
   "id": "vocal-resistance",
   "metadata": {},
   "source": [
    "We compute the prediction of the complete data set used for training and the data set for testing."
   ]
  },
  {
   "cell_type": "code",
   "execution_count": 208,
   "id": "boring-operations",
   "metadata": {},
   "outputs": [
    {
     "name": "stdout",
     "output_type": "stream",
     "text": [
      "MSE in train data = 24.563\n",
      "MSE in test data  = 19.363\n",
      "R2 in train data  = 72.643%\n",
      "R2 in test data   = 66.918%\n"
     ]
    }
   ],
   "source": [
    "y_hat = predict_with_estimate(X,beta)\n",
    "yt_hat = predict_with_estimate(Xt,beta)\n",
    "MSE_train = MSE(y,y_hat)\n",
    "MSE_test  = MSE(yt,yt_hat)\n",
    "R2_train = R2(y,y_hat)\n",
    "R2_test = R2(yt,yt_hat)\n",
    "print(f\"MSE in train data = {MSE_train:.3f}\")\n",
    "print(f\"MSE in test data  = {MSE_test:.3f}\")\n",
    "print(f\"R2 in train data  = {100*R2_train:.3f}%\")\n",
    "print(f\"R2 in test data   = {100*R2_test:.3f}%\")"
   ]
  },
  {
   "cell_type": "code",
   "execution_count": 209,
   "id": "provincial-trash",
   "metadata": {},
   "outputs": [
    {
     "data": {
      "image/png": "[encoded data removed]",
      "text/plain": [
       "<Figure size 432x288 with 1 Axes>"
      ]
     },
     "metadata": {
      "needs_background": "light"
     },
     "output_type": "display_data"
    }
   ],
   "source": [
    "y_hat = predict_with_estimate(X_std,beta)\n",
    "yt_hat = predict_with_estimate(Xt_std,beta)\n",
    "_ = sns.kdeplot((y - y_hat),fill=True,color='red')\n",
    "_ = sns.kdeplot((yt - yt_hat),fill=True,color='k')\n",
    "_ = plt.title(\"Distribution of $y-\\hat{y}$\")\n",
    "_ = plt.grid(alpha=0.2)\n",
    "_ = plt.xlabel('$y-\\hat{y}$')"
   ]
  },
  {
   "cell_type": "markdown",
   "id": "automotive-committee",
   "metadata": {},
   "source": [
    "The optimal penalty is 1.61, with that penalty we don't have a significant change with respect to the original linear regression, nonetheless we see a signigicant change in the estimators, they are smaller and have similar magnitudes. The errors among the test and the train data are normally distributed as we can see. "
   ]
  },
  {
   "cell_type": "markdown",
   "id": "velvet-interval",
   "metadata": {},
   "source": [
    "<a id='1.3 Regression with k nearest neighbours'></a>\n",
    "## 1.3 Regression with k nearest neighbours"
   ]
  },
  {
   "cell_type": "code",
   "execution_count": 210,
   "id": "military-baseball",
   "metadata": {},
   "outputs": [],
   "source": [
    "X  = np.array(RTrain[[col for col in RTrain.columns if col[0] == 'x']])\n",
    "y  = np.array(RTrain['y'])\n",
    "Xt = np.array(RTest[[col for col in RTest.columns if col[0] == 'x']])\n",
    "yt = np.array(RTest['y'])\n",
    "X = X[:,1:]\n",
    "Xt = Xt[:,1:]"
   ]
  },
  {
   "cell_type": "code",
   "execution_count": 211,
   "id": "immediate-wheel",
   "metadata": {},
   "outputs": [],
   "source": [
    "def euclidian_distance(p, q):\n",
    "    \"\"\"\n",
    "    Computes the distance between two points\n",
    "    \n",
    "    :param p: an nx1 numpy array\n",
    "    :param q: an nx1 numpy array\n",
    "    \n",
    "    :return distance: a float\n",
    "    \"\"\"\n",
    "    distance = np.sqrt(np.sum((p-q)**2, axis=1))\n",
    "    return distance\n",
    "def k_neighbours(X,X_train, n_neighbours=5):\n",
    "    \"\"\"\n",
    "    Computes the k closest points for a data set\n",
    "    X given the information of the training \n",
    "    data set X_train\n",
    "    \n",
    "    :param X: an NxD numpy array\n",
    "    :param X_train: an MxD numpy array\n",
    "    :param n_neighbours: an integer \n",
    "    \n",
    "    :return neigh_ind: a N lenght list of arrays\n",
    "    \"\"\"        \n",
    "    dist = []\n",
    "    neigh_ind = []\n",
    "\n",
    "    point_dist = [euclidian_distance(x_test, X_train) for x_test in X]\n",
    "    \n",
    "    for row in point_dist:\n",
    "        enum_neigh = enumerate(row)\n",
    "        sorted_neigh = sorted(enum_neigh, key=lambda x: x[1])[:n_neighbours]\n",
    "\n",
    "        ind_list = [tup[0] for tup in sorted_neigh]\n",
    "        dist_list = [tup[1] for tup in sorted_neigh]\n",
    "\n",
    "        dist.append(dist_list)\n",
    "        neigh_ind.append(ind_list)\n",
    "\n",
    "    return np.array(neigh_ind)\n",
    "def reg_predict(X_test,X_train, y_train, n_neighbours=20):\n",
    "    \"\"\"\n",
    "    Computes the prediction of a dataset X_test\n",
    "    given the model obtained by X_train and y_train\n",
    "    \n",
    "    :param X_test: an NxD numpy array\n",
    "    :param X_train: an MxD numpy array\n",
    "    :param y_train: an Mx1 numpy array\n",
    "    :param n_neighbours: an integer \n",
    "    \n",
    "    :return y_pred: an Nx1 numpy array\n",
    "    \"\"\"   \n",
    "    neighbours = k_neighbours(X_test,X_train, n_neighbours)\n",
    "    \n",
    "    y_pred = np.array([np.mean(y_train[neighbour]) for neighbour in neighbours]) ## <-- SOLUTION\n",
    "\n",
    "    return y_pred\n",
    "def cv_kneighbours(X,y,T,k_values):\n",
    "    \"\"\"\n",
    "    Finds the best selection of k for the \n",
    "    data set X,y using T-folds\n",
    "    \n",
    "    :param X: an NxD numpy array\n",
    "    :param y: an Mx1 numpy array\n",
    "    :param T: an integer \n",
    "    :param k_values: a list of P integers\n",
    "    \n",
    "    :return op_k: an integer\n",
    "    :return mse_k: a list of P floats\n",
    "    \"\"\"       \n",
    "    np.random.seed(100)\n",
    "    Xs,ys = data_split(X,y,T)\n",
    "    mse_k = []\n",
    "    mse_k2 = []\n",
    "    for k in k_values:\n",
    "        mse_s = []\n",
    "        mse_s2 = []\n",
    "        for t in range(T):\n",
    "            Xs[t],ys[t]\n",
    "            Xcs = np.concatenate([x for i,x in enumerate(Xs) if i !=t])\n",
    "            ycs = np.concatenate([y for i,y in enumerate(ys) if i !=t])\n",
    "            Xcs_std = Xcs.copy()\n",
    "            Xcs_std, mu, std = standardise(Xcs)\n",
    "\n",
    "            Xs_std = Xs[t].copy()\n",
    "            Xs_std = (Xs_std - mu) / std\n",
    "\n",
    "\n",
    "            ycs_hat = reg_predict(Xs_std,Xcs_std,ycs, n_neighbours = k)\n",
    "            \n",
    "            ycs2_hat = reg_predict(Xcs_std,Xcs_std,ycs, n_neighbours = k) #We compute the prediction of the data itself\n",
    "            \n",
    "            mse_s.append(MSE(ys[t],ycs_hat))\n",
    "            mse_s2.append(MSE(ycs,ycs2_hat)) # The prediction of the data itself\n",
    "\n",
    "        mse_k2.append(np.mean(mse_s2))\n",
    "        mse_k.append(np.mean(mse_s))\n",
    "    op_k = k_values[np.argmin(mse_k)]\n",
    "    return(op_k,mse_k,mse_k2)"
   ]
  },
  {
   "cell_type": "code",
   "execution_count": 212,
   "id": "planned-documentary",
   "metadata": {},
   "outputs": [],
   "source": [
    "T = 5 \n",
    "k_values = np.arange(1,20,1)\n",
    "op_k,mse_k,mse_k2 = cv_kneighbours(X,y,T,k_values)"
   ]
  },
  {
   "cell_type": "code",
   "execution_count": 213,
   "id": "level-gibson",
   "metadata": {
    "scrolled": true
   },
   "outputs": [
    {
     "data": {
      "image/png": "[encoded data removed]",
      "text/plain": [
       "<Figure size 432x288 with 1 Axes>"
      ]
     },
     "metadata": {
      "needs_background": "light"
     },
     "output_type": "display_data"
    }
   ],
   "source": [
    "_ = plt.scatter(k_values,mse_k,color='red')\n",
    "_ = plt.scatter(k_values,mse_k2,color='blue',alpha=0.6)\n",
    "_ = plt.plot(k_values,mse_k,color='red',alpha=0.6,label='MSE using out of sample data')\n",
    "_ = plt.plot(k_values,mse_k2,color='blue',alpha=0.6,label='MSE using in sample data')\n",
    "_ = plt.grid(alpha=0.25)\n",
    "_ = plt.title(f\"K = {op_k} is the optimal\")\n",
    "_ = plt.xlabel(\"K\")\n",
    "_ = plt.legend()\n",
    "_ = plt.ylabel('$\\langle MSE \\\\rangle$')"
   ]
  },
  {
   "cell_type": "code",
   "execution_count": 214,
   "id": "million-labor",
   "metadata": {},
   "outputs": [
    {
     "name": "stdout",
     "output_type": "stream",
     "text": [
      "MSE in train data = 3.971\n",
      "MSE in test data  = 13.764\n",
      "R2 in train data  = 95.58%\n",
      "R2 in test data   = 76.48%\n"
     ]
    }
   ],
   "source": [
    "X_std = X.copy()\n",
    "Xt_std = Xt.copy()\n",
    "X_std,mu,std  = standardise(X_std)\n",
    "Xt_std = (Xt_std - mu) / std\n",
    "y_hat  = reg_predict(X_std,X_std,y, n_neighbours=op_k)\n",
    "yt_hat = reg_predict(Xt_std,X_std,y, n_neighbours=op_k)\n",
    "MSE_train = MSE(y,y_hat)\n",
    "MSE_test  = MSE(yt,yt_hat)\n",
    "R2_train = R2(y,y_hat)\n",
    "R2_test = R2(yt,yt_hat)\n",
    "print(f\"MSE in train data = {MSE_train:.3f}\")\n",
    "print(f\"MSE in test data  = {MSE_test:.3f}\")\n",
    "print(f\"R2 in train data  = {100*R2_train:.2f}%\")\n",
    "print(f\"R2 in test data   = {100*R2_test:.2f}%\")"
   ]
  },
  {
   "cell_type": "code",
   "execution_count": 215,
   "id": "geological-album",
   "metadata": {},
   "outputs": [
    {
     "data": {
      "image/png": "[encoded data removed]",
      "text/plain": [
       "<Figure size 432x288 with 1 Axes>"
      ]
     },
     "metadata": {
      "needs_background": "light"
     },
     "output_type": "display_data"
    }
   ],
   "source": [
    "_ = sns.kdeplot((y - y_hat),fill=True,color='red',label='Training Data')\n",
    "_ = sns.kdeplot((yt - yt_hat),fill=True,color='k',label='Test Data')\n",
    "_ = plt.title(\"Distribution of $y-\\hat{y}$\")\n",
    "_ = plt.grid(alpha=0.2)\n",
    "_ = plt.xlabel('$y-\\hat{y}$')\n",
    "_ = plt.legend()"
   ]
  },
  {
   "cell_type": "markdown",
   "id": "controlling-mobile",
   "metadata": {},
   "source": [
    "#### Conclusions \n",
    "\n",
    "We found that the optimal number of neighbours is 2, nonetheless we found a great overfitting using a few number of neighbours, we can see that from the MSE of the testing data, we can also see that from the distribution of the errors, for the training data the errors are very concentrated, the errors for the test data are more spread. We also compute the MSE in the cross valitation for the predictions of the data itself (data used for the model) and we can see in the figure that the spread between the MSEs is bigger in low values of k (overfitting). That would suggest that using the MSE of the cross valitation is not the best way to find the parameter, if we select a number of neighbours of 15 we get a closer MSE between the training and the less, but we loss some accuracy: "
   ]
  },
  {
   "cell_type": "code",
   "execution_count": 216,
   "id": "inappropriate-religion",
   "metadata": {},
   "outputs": [
    {
     "name": "stdout",
     "output_type": "stream",
     "text": [
      "MSE in train data = 19.431\n",
      "MSE in test data  = 15.072\n",
      "R2 in train data  = 78.36%\n",
      "R2 in test data   = 74.25%\n"
     ]
    },
    {
     "data": {
      "image/png": "[encoded data removed]",
      "text/plain": [
       "<Figure size 432x288 with 1 Axes>"
      ]
     },
     "metadata": {
      "needs_background": "light"
     },
     "output_type": "display_data"
    }
   ],
   "source": [
    "X_std = X.copy()\n",
    "Xt_std = Xt.copy()\n",
    "X_std,mu,std  = standardise(X_std)\n",
    "Xt_std = (Xt_std - mu) / std\n",
    "y_hat  = reg_predict(X_std,X_std,y, n_neighbours=15)\n",
    "yt_hat = reg_predict(Xt_std,X_std,y, n_neighbours=15)\n",
    "MSE_train = MSE(y,y_hat)\n",
    "MSE_test  = MSE(yt,yt_hat)\n",
    "R2_train = R2(y,y_hat)\n",
    "R2_test = R2(yt,yt_hat)\n",
    "print(f\"MSE in train data = {MSE_train:.3f}\")\n",
    "print(f\"MSE in test data  = {MSE_test:.3f}\")\n",
    "print(f\"R2 in train data  = {100*R2_train:.2f}%\")\n",
    "print(f\"R2 in test data   = {100*R2_test:.2f}%\")\n",
    "_ = sns.kdeplot((y - y_hat),fill=True,color='red',label='Training Data')\n",
    "_ = sns.kdeplot((yt - yt_hat),fill=True,color='k',label='Test Data')\n",
    "_ = plt.title(\"Distribution of $y-\\hat{y}$\")\n",
    "_ = plt.grid(alpha=0.2)\n",
    "_ = plt.xlabel('$y-\\hat{y}$')\n",
    "_ = plt.legend()"
   ]
  },
  {
   "cell_type": "markdown",
   "id": "needed-decrease",
   "metadata": {},
   "source": [
    "The performance of the model is similar in both training an test dataset"
   ]
  },
  {
   "cell_type": "markdown",
   "id": "marine-affairs",
   "metadata": {},
   "source": [
    "<a id='Task 2: Classification'></a>\n",
    "# Task 2: Classification"
   ]
  },
  {
   "cell_type": "code",
   "execution_count": 217,
   "id": "affecting-smell",
   "metadata": {},
   "outputs": [
    {
     "data": {
      "text/html": [
       "<div>\n",
       "<style scoped>\n",
       "    .dataframe tbody tr th:only-of-type {\n",
       "        vertical-align: middle;\n",
       "    }\n",
       "\n",
       "    .dataframe tbody tr th {\n",
       "        vertical-align: top;\n",
       "    }\n",
       "\n",
       "    .dataframe thead th {\n",
       "        text-align: right;\n",
       "    }\n",
       "</style>\n",
       "<table border=\"1\" class=\"dataframe\">\n",
       "  <thead>\n",
       "    <tr style=\"text-align: right;\">\n",
       "      <th></th>\n",
       "      <th>x1</th>\n",
       "      <th>x2</th>\n",
       "      <th>x3</th>\n",
       "      <th>x4</th>\n",
       "      <th>x5</th>\n",
       "      <th>x6</th>\n",
       "      <th>x7</th>\n",
       "      <th>x8</th>\n",
       "      <th>x9</th>\n",
       "      <th>x10</th>\n",
       "      <th>x11</th>\n",
       "      <th>y</th>\n",
       "    </tr>\n",
       "  </thead>\n",
       "  <tbody>\n",
       "    <tr>\n",
       "      <th>0</th>\n",
       "      <td>0.161765</td>\n",
       "      <td>0.25</td>\n",
       "      <td>0.363156</td>\n",
       "      <td>0.25</td>\n",
       "      <td>0.0</td>\n",
       "      <td>0.000000</td>\n",
       "      <td>0.333333</td>\n",
       "      <td>0.333333</td>\n",
       "      <td>0.267857</td>\n",
       "      <td>1.000000</td>\n",
       "      <td>1.0</td>\n",
       "      <td>0.0</td>\n",
       "    </tr>\n",
       "    <tr>\n",
       "      <th>1</th>\n",
       "      <td>0.470588</td>\n",
       "      <td>0.50</td>\n",
       "      <td>0.858754</td>\n",
       "      <td>0.00</td>\n",
       "      <td>0.0</td>\n",
       "      <td>0.333333</td>\n",
       "      <td>0.666667</td>\n",
       "      <td>0.666667</td>\n",
       "      <td>0.428571</td>\n",
       "      <td>1.000000</td>\n",
       "      <td>0.0</td>\n",
       "      <td>1.0</td>\n",
       "    </tr>\n",
       "    <tr>\n",
       "      <th>2</th>\n",
       "      <td>0.117647</td>\n",
       "      <td>0.00</td>\n",
       "      <td>0.138054</td>\n",
       "      <td>0.00</td>\n",
       "      <td>1.0</td>\n",
       "      <td>0.333333</td>\n",
       "      <td>1.000000</td>\n",
       "      <td>0.333333</td>\n",
       "      <td>0.267857</td>\n",
       "      <td>0.666667</td>\n",
       "      <td>0.0</td>\n",
       "      <td>1.0</td>\n",
       "    </tr>\n",
       "    <tr>\n",
       "      <th>3</th>\n",
       "      <td>0.470588</td>\n",
       "      <td>0.50</td>\n",
       "      <td>0.175856</td>\n",
       "      <td>0.00</td>\n",
       "      <td>1.0</td>\n",
       "      <td>1.000000</td>\n",
       "      <td>0.333333</td>\n",
       "      <td>0.666667</td>\n",
       "      <td>0.410714</td>\n",
       "      <td>0.666667</td>\n",
       "      <td>0.0</td>\n",
       "      <td>0.0</td>\n",
       "    </tr>\n",
       "    <tr>\n",
       "      <th>4</th>\n",
       "      <td>0.647059</td>\n",
       "      <td>0.00</td>\n",
       "      <td>0.239628</td>\n",
       "      <td>0.00</td>\n",
       "      <td>1.0</td>\n",
       "      <td>0.666667</td>\n",
       "      <td>1.000000</td>\n",
       "      <td>1.000000</td>\n",
       "      <td>0.089286</td>\n",
       "      <td>0.666667</td>\n",
       "      <td>0.0</td>\n",
       "      <td>0.0</td>\n",
       "    </tr>\n",
       "  </tbody>\n",
       "</table>\n",
       "</div>"
      ],
      "text/plain": [
       "         x1    x2        x3    x4   x5        x6        x7        x8  \\\n",
       "0  0.161765  0.25  0.363156  0.25  0.0  0.000000  0.333333  0.333333   \n",
       "1  0.470588  0.50  0.858754  0.00  0.0  0.333333  0.666667  0.666667   \n",
       "2  0.117647  0.00  0.138054  0.00  1.0  0.333333  1.000000  0.333333   \n",
       "3  0.470588  0.50  0.175856  0.00  1.0  1.000000  0.333333  0.666667   \n",
       "4  0.647059  0.00  0.239628  0.00  1.0  0.666667  1.000000  1.000000   \n",
       "\n",
       "         x9       x10  x11    y  \n",
       "0  0.267857  1.000000  1.0  0.0  \n",
       "1  0.428571  1.000000  0.0  1.0  \n",
       "2  0.267857  0.666667  0.0  1.0  \n",
       "3  0.410714  0.666667  0.0  0.0  \n",
       "4  0.089286  0.666667  0.0  0.0  "
      ]
     },
     "metadata": {},
     "output_type": "display_data"
    },
    {
     "name": "stdout",
     "output_type": "stream",
     "text": [
      "(800, 12)\n"
     ]
    }
   ],
   "source": [
    "CTrain = pd.read_csv('classification_train.csv',header=None)\n",
    "CTrain.columns = [f'x{i+1}' for i in range(CTrain.shape[1]-1)] + ['y']\n",
    "display(CTrain.head())\n",
    "print(CTrain.shape)"
   ]
  },
  {
   "cell_type": "code",
   "execution_count": 218,
   "id": "miniature-reduction",
   "metadata": {},
   "outputs": [
    {
     "data": {
      "text/html": [
       "<div>\n",
       "<style scoped>\n",
       "    .dataframe tbody tr th:only-of-type {\n",
       "        vertical-align: middle;\n",
       "    }\n",
       "\n",
       "    .dataframe tbody tr th {\n",
       "        vertical-align: top;\n",
       "    }\n",
       "\n",
       "    .dataframe thead th {\n",
       "        text-align: right;\n",
       "    }\n",
       "</style>\n",
       "<table border=\"1\" class=\"dataframe\">\n",
       "  <thead>\n",
       "    <tr style=\"text-align: right;\">\n",
       "      <th></th>\n",
       "      <th>x1</th>\n",
       "      <th>x2</th>\n",
       "      <th>x3</th>\n",
       "      <th>x4</th>\n",
       "      <th>x5</th>\n",
       "      <th>x6</th>\n",
       "      <th>x7</th>\n",
       "      <th>x8</th>\n",
       "      <th>x9</th>\n",
       "      <th>x10</th>\n",
       "      <th>x11</th>\n",
       "      <th>y</th>\n",
       "    </tr>\n",
       "  </thead>\n",
       "  <tbody>\n",
       "    <tr>\n",
       "      <th>0</th>\n",
       "      <td>0.205882</td>\n",
       "      <td>0.50</td>\n",
       "      <td>0.069055</td>\n",
       "      <td>0.0</td>\n",
       "      <td>0.5</td>\n",
       "      <td>1.000000</td>\n",
       "      <td>0.333333</td>\n",
       "      <td>1.000000</td>\n",
       "      <td>0.232143</td>\n",
       "      <td>1.000000</td>\n",
       "      <td>1.0</td>\n",
       "      <td>1.0</td>\n",
       "    </tr>\n",
       "    <tr>\n",
       "      <th>1</th>\n",
       "      <td>0.382353</td>\n",
       "      <td>0.00</td>\n",
       "      <td>0.238418</td>\n",
       "      <td>0.0</td>\n",
       "      <td>0.5</td>\n",
       "      <td>0.333333</td>\n",
       "      <td>0.333333</td>\n",
       "      <td>0.000000</td>\n",
       "      <td>0.232143</td>\n",
       "      <td>0.666667</td>\n",
       "      <td>0.0</td>\n",
       "      <td>1.0</td>\n",
       "    </tr>\n",
       "    <tr>\n",
       "      <th>2</th>\n",
       "      <td>0.558824</td>\n",
       "      <td>1.00</td>\n",
       "      <td>0.208650</td>\n",
       "      <td>0.5</td>\n",
       "      <td>0.5</td>\n",
       "      <td>1.000000</td>\n",
       "      <td>1.000000</td>\n",
       "      <td>0.000000</td>\n",
       "      <td>0.303571</td>\n",
       "      <td>0.666667</td>\n",
       "      <td>1.0</td>\n",
       "      <td>1.0</td>\n",
       "    </tr>\n",
       "    <tr>\n",
       "      <th>3</th>\n",
       "      <td>0.338235</td>\n",
       "      <td>0.00</td>\n",
       "      <td>0.277484</td>\n",
       "      <td>0.0</td>\n",
       "      <td>0.0</td>\n",
       "      <td>0.333333</td>\n",
       "      <td>1.000000</td>\n",
       "      <td>0.333333</td>\n",
       "      <td>0.553571</td>\n",
       "      <td>0.666667</td>\n",
       "      <td>1.0</td>\n",
       "      <td>0.0</td>\n",
       "    </tr>\n",
       "    <tr>\n",
       "      <th>4</th>\n",
       "      <td>0.250000</td>\n",
       "      <td>0.75</td>\n",
       "      <td>0.115715</td>\n",
       "      <td>0.0</td>\n",
       "      <td>0.5</td>\n",
       "      <td>0.000000</td>\n",
       "      <td>1.000000</td>\n",
       "      <td>0.333333</td>\n",
       "      <td>0.500000</td>\n",
       "      <td>0.666667</td>\n",
       "      <td>0.0</td>\n",
       "      <td>1.0</td>\n",
       "    </tr>\n",
       "  </tbody>\n",
       "</table>\n",
       "</div>"
      ],
      "text/plain": [
       "         x1    x2        x3   x4   x5        x6        x7        x8        x9  \\\n",
       "0  0.205882  0.50  0.069055  0.0  0.5  1.000000  0.333333  1.000000  0.232143   \n",
       "1  0.382353  0.00  0.238418  0.0  0.5  0.333333  0.333333  0.000000  0.232143   \n",
       "2  0.558824  1.00  0.208650  0.5  0.5  1.000000  1.000000  0.000000  0.303571   \n",
       "3  0.338235  0.00  0.277484  0.0  0.0  0.333333  1.000000  0.333333  0.553571   \n",
       "4  0.250000  0.75  0.115715  0.0  0.5  0.000000  1.000000  0.333333  0.500000   \n",
       "\n",
       "        x10  x11    y  \n",
       "0  1.000000  1.0  1.0  \n",
       "1  0.666667  0.0  1.0  \n",
       "2  0.666667  1.0  1.0  \n",
       "3  0.666667  1.0  0.0  \n",
       "4  0.666667  0.0  1.0  "
      ]
     },
     "metadata": {},
     "output_type": "display_data"
    },
    {
     "name": "stdout",
     "output_type": "stream",
     "text": [
      "(200, 12)\n"
     ]
    }
   ],
   "source": [
    "CTest = pd.read_csv('classification_test.csv',header=None)\n",
    "CTest.columns = [f'x{i+1}' for i in range(CTest.shape[1]-1)] + ['y']\n",
    "display(CTest.head())\n",
    "print(CTest.shape)"
   ]
  },
  {
   "cell_type": "code",
   "execution_count": 219,
   "id": "inappropriate-comedy",
   "metadata": {},
   "outputs": [
    {
     "data": {
      "image/png": "[encoded data removed]",
      "text/plain": [
       "<Figure size 960x660 with 12 Axes>"
      ]
     },
     "metadata": {},
     "output_type": "display_data"
    }
   ],
   "source": [
    "fig, axs = plt.subplots(3,4, figsize=(16, 11), facecolor='w', edgecolor='k',dpi=60)\n",
    "axs = axs.ravel()\n",
    "for i,col in enumerate(CTrain.columns):\n",
    "    if col != 'y':\n",
    "        sns.ecdfplot(CTrain[CTrain.y == 0][col],color='red',alpha=0.6,ax=axs[i])\n",
    "        sns.ecdfplot(CTrain[CTrain.y == 1][col],color='k',alpha=0.6,ax=axs[i])\n",
    "        axs[i].set_xlabel(col)\n",
    "        axs[i].grid(alpha=0.25)\n",
    "    else:\n",
    "        plt.hist(CTrain[col],color='g')\n",
    "        axs[i].grid(alpha=0.25)"
   ]
  },
  {
   "cell_type": "markdown",
   "id": "fifteen-people",
   "metadata": {},
   "source": [
    "We draw the cumulative histogram of the variables, we would like to see some separation between the 2 classes in y variable "
   ]
  },
  {
   "cell_type": "markdown",
   "id": "automotive-parent",
   "metadata": {},
   "source": [
    "<a id='2.1 Logistic regression'></a>\n",
    "## 2.1 Logistic regression"
   ]
  },
  {
   "cell_type": "code",
   "execution_count": 220,
   "id": "sonic-finish",
   "metadata": {},
   "outputs": [],
   "source": [
    "X  = np.array(CTrain[[col for col in CTrain.columns if col[0] == 'x']]).T\n",
    "y  = np.array(CTrain['y'])\n",
    "Xt = np.array(CTest[[col for col in CTest.columns if col[0] == 'x']]).T\n",
    "yt = np.array(CTest['y'])"
   ]
  },
  {
   "cell_type": "code",
   "execution_count": 1189,
   "id": "settled-cambodia",
   "metadata": {},
   "outputs": [],
   "source": [
    "def logistic(x):\n",
    "    \"\"\"\n",
    "    Logistic function\n",
    "    \n",
    "    :param x: a float\n",
    "    \n",
    "    :return log: a float\n",
    "    \"\"\"\n",
    "    return(1/(1+np.exp(-x)))\n",
    "def predict_log(X, beta, beta_0):\n",
    "    \"\"\"\n",
    "    Probability given the Logistic model\n",
    "    for X, beta and beta_0\n",
    "    \n",
    "    :param x: a DxM numpy array\n",
    "    :param beta: a Dx1 numpy array\n",
    "    :param beta_0: a float\n",
    "    \n",
    "    :return y_log: a float\n",
    "    \"\"\"\n",
    "    y_log = logistic(beta.T @ X + beta_0)\n",
    "    return y_log\n",
    "def propagate(X, y, beta, beta_0):\n",
    "    \"\"\"\n",
    "    Compute the cost and the derivatives requiered\n",
    "    for the optimization of the problem \n",
    "    \n",
    "    :param X: a dxn numpy array\n",
    "    :param y: a nx1 numpy array\n",
    "    :param beta: a Dx1 numpy array\n",
    "    :param beta_0: a float\n",
    "\n",
    "    :return grads: a Dx1 numpy array\n",
    "    :return cost: a float\n",
    "    \"\"\"\n",
    "    n = X.shape[1]\n",
    "    y_log = predict_log(X, beta, beta_0)\n",
    "\n",
    "    cost = (-1) * np.mean(np.multiply(y, np.log(y_log)) + np.multiply(1-y, np.log(1 - y_log)), axis=1) \n",
    "\n",
    "    dbeta = (1/n) * X @ np.transpose(y_log - y)  \n",
    "    dbeta_0 =  np.mean((y_log - y))\n",
    "\n",
    "    assert(dbeta.shape==beta.shape)\n",
    "    assert(dbeta_0.dtype==float)\n",
    "    cost = np.squeeze(cost)\n",
    "    assert(cost.shape==())\n",
    "\n",
    "    grads = {\"dbeta\": dbeta, \"dbeta_0\": dbeta_0}\n",
    "\n",
    "    return grads, cost\n",
    "\n",
    "def optimise(X, y, num_iterations=1000, learning_rate=0.005, print_cost=False):\n",
    "    \"\"\"\n",
    "    Compute the optimization for the dataset X,y\n",
    "    returns the optimal parameters\n",
    "\n",
    "    :params X: a dxn numpy array\n",
    "    :params y: a nx1 numpy array\n",
    "    :params num_iterations: a integer \n",
    "    :params learning_rate: a float \n",
    "    :params print_cost: a boolean \n",
    "    \n",
    "    :return params: a dictionary \n",
    "    :return grads: a dictionary \n",
    "    :return costs: a list \n",
    "    \"\"\"\n",
    "    d = X.shape[0]\n",
    "    \n",
    "    beta = np.zeros(shape=(d, 1), dtype=np.float32)\n",
    "    beta_0 = 0\n",
    "    \n",
    "    costs = []\n",
    "\n",
    "    for i in range(num_iterations):\n",
    "\n",
    "        grads, cost = propagate(X, y, beta, beta_0) \n",
    "\n",
    "        dbeta = grads[\"dbeta\"]\n",
    "        dbeta_0 = grads[\"dbeta_0\"]\n",
    "\n",
    "        beta = beta - learning_rate * dbeta\n",
    "        beta_0 = beta_0 - learning_rate * dbeta_0\n",
    "\n",
    "    if i % 100 == 0:\n",
    "        costs.append(cost)\n",
    "\n",
    "    if print_cost and i % 100 == 0:\n",
    "        print (\"cost after iteration %i: %f\" %(i, cost))\n",
    "  \n",
    "    params = {\"beta\": beta, \"beta_0\": beta_0}\n",
    "    grads = {\"dbeta\": dbeta, \"dbeta_0\": dbeta_0}\n",
    "\n",
    "    return params, grads, costs\n",
    "def predict(X_test, beta, beta_0,threshold):\n",
    "    \"\"\"\n",
    "    Computes the prediction of the data X_test\n",
    "    given the parameters beta, beta_0 and decides \n",
    "    the classification with the threshold given\n",
    "    \n",
    "    :param X_test: an dxm numpy array\n",
    "    :param beta: an dx1 numpy array\n",
    "    :param beta_0: a float\n",
    "    :param threshold: a float\n",
    "    \n",
    "    :return y_pred: a mx1 numpy array\n",
    "    \"\"\"\n",
    "    n = X_test.shape[1]\n",
    "    y_pred = np.zeros((1,n))\n",
    "    beta = beta.reshape(X_test.shape[0], 1)\n",
    "\n",
    "    y_log = predict_log(X_test, beta, beta_0)\n",
    "\n",
    "    for i in range(y_log.shape[1]):\n",
    "        \n",
    "        if y_log[0, i] > threshold:\n",
    "            y_pred[0, i] = 1  \n",
    "        else:\n",
    "            y_pred[0, i] = 0  \n",
    "\n",
    "    assert(y_pred.shape==(1, n))\n",
    "\n",
    "    return y_pred[0]\n",
    "def accuracy(y1,y2):\n",
    "    \"\"\"\n",
    "    Accuracy of a classification problem\n",
    "    \n",
    "    :param y1: a nx1 numpy array\n",
    "    :param y2: a nx1 numpy array\n",
    "    \n",
    "    :return acc: a float\n",
    "    \"\"\"\n",
    "    acc = 1 - np.mean(np.abs(y1 - y2))\n",
    "    return acc \n",
    "def score(y1,y2):\n",
    "    \"\"\"\n",
    "    Score/Accuracy of a binary classification problem\n",
    "    \n",
    "    :param y1: a nx1 numpy array\n",
    "    :param y2: a nx1 numpy array\n",
    "    \n",
    "    :return score: a float\n",
    "    \"\"\"\n",
    "    score = sum(y1 == y2) / len(y1)\n",
    "    return score\n",
    "def confusion_matrix(y1,y2):\n",
    "    \"\"\"\n",
    "    Confusion matrix for the predictions \n",
    "    y1 and y2\n",
    "    \n",
    "    :param y1: a nx1 numpy array\n",
    "    :param y2: a nx1 numpy array\n",
    "    \n",
    "    :return CM: a 2x2 numpy array\n",
    "    \"\"\"\n",
    "    \n",
    "    TP,FN,TN,FP= 0,0,0,0\n",
    "    for i in range(len(y1)):\n",
    "        if y1[i] == 1:\n",
    "            if y2[i] == 1:\n",
    "                TP += 1\n",
    "            else:\n",
    "                FN +=1\n",
    "        else:\n",
    "            if y2[i] == 1:\n",
    "                FP += 1\n",
    "            else:\n",
    "                TN += 1   \n",
    "    return(np.array([[TP,FP],[FN,TN]]))\n",
    "def F1score(y1,y2):\n",
    "    \"\"\"\n",
    "    F1 score for the predictions \n",
    "    y1 and y2\n",
    "    \n",
    "    :param y1: a nx1 numpy array\n",
    "    :param y2: a nx1 numpy array\n",
    "    \n",
    "    :return F1: a 2x2 numpy array\n",
    "    \"\"\"    \n",
    "    TP = 0\n",
    "    for i in range(len(y1)):\n",
    "        if (y1[i] == 1) and (y2[i] == 1):\n",
    "            TP += 1 \n",
    "    precision = TP / len(y1)\n",
    "    recall = TP/ (sum(y2 == 1)+0.000001)\n",
    "    \n",
    "    F1 = 2*(precision * recall) / (precision + recall+0.000001)\n",
    "    return(F1)\n",
    "\n",
    "def cv_logistic(X,y,T,hypergrid,num_iterations=5000):\n",
    "    \"\"\"Finds the best selection of hyperparameters\n",
    "    for the data set X,y using T-folds for the \n",
    "    logistic model classification\n",
    "    \n",
    "    :param X: an NxD numpy array\n",
    "    :param y: an Mx1 numpy array\n",
    "    :param T: an integer \n",
    "    :param hypergrid: a dictionary with parameters\n",
    "    :param num_iterations: a integer \n",
    "    \n",
    "    :return op_params: a tuple \n",
    "    :return Results: a LxJ numpy array\n",
    "    \"\"\"       \n",
    "    np.random.seed(100)\n",
    "    Xs,ys = data_split(X.T,y,T)\n",
    "    Xs = [xs.T for xs in Xs]\n",
    "    Results = np.zeros((len(hypergrid['threshold']),len(hypergrid['learning_rate'])))\n",
    "    Params = [(x,y) for x in hypergrid['threshold'] for y in hypergrid['learning_rate']]\n",
    "    for i,threshold in enumerate(hypergrid['threshold']):\n",
    "        for j,learning_rate in  enumerate(hypergrid['learning_rate']):\n",
    "            acc_s = []\n",
    "            for t in range(T):\n",
    "                Xcs = np.concatenate([x.T for i,x in enumerate(Xs) if i!=t]).T\n",
    "                ycs = np.concatenate([y for i,y in enumerate(ys) if i!=t])              \n",
    "                \n",
    "                \n",
    "                parameters, _, _ = optimise(Xcs, ycs, num_iterations, learning_rate=learning_rate)\n",
    "                beta = parameters[\"beta\"]\n",
    "                beta_0 = parameters[\"beta_0\"]\n",
    "                ycs_hat = predict(Xs[t], beta, beta_0,threshold)       \n",
    "                acc_s.append(accuracy(ys[t],ycs_hat))\n",
    "            Results[i,j] = np.mean(acc_s) \n",
    "            \n",
    "    b_index = np.argmax(Results)\n",
    "    return(Params[np.argmax(Results)], Results)   "
   ]
  },
  {
   "cell_type": "code",
   "execution_count": 222,
   "id": "demographic-development",
   "metadata": {},
   "outputs": [
    {
     "data": {
      "image/png": "[encoded data removed]",
      "text/plain": [
       "<Figure size 432x288 with 2 Axes>"
      ]
     },
     "metadata": {
      "needs_background": "light"
     },
     "output_type": "display_data"
    }
   ],
   "source": [
    "hypergrid = {'threshold':np.linspace(0.3,0.8,15),'learning_rate':np.linspace(0.01,4,15)}\n",
    "(op_threshold, op_learning_rate), Results  = cv_logistic(X,y,T=5,hypergrid=hypergrid,num_iterations=5000)\n",
    "\n",
    "fig, ax = plt.subplots(1,1)\n",
    "img = ax.imshow(Results,extent=[hypergrid['learning_rate'].min(), \n",
    "                                hypergrid['learning_rate'].max(), \n",
    "                                hypergrid['threshold'].min(), \n",
    "                                hypergrid['threshold'].max()], aspect='auto')\n",
    "_ = fig.colorbar(img,label='Accuracy')\n",
    "_ = plt.title(f\"Optimal Learning rate = {op_learning_rate:.2f}\\n Optimal threshold = {op_threshold:.2f}\")\n",
    "_ = ax.set_xlabel(\"Learning rate\")\n",
    "_ = ax.set_ylabel(\"Threshold\")"
   ]
  },
  {
   "cell_type": "code",
   "execution_count": 223,
   "id": "chemical-press",
   "metadata": {},
   "outputs": [
    {
     "name": "stdout",
     "output_type": "stream",
     "text": [
      "Accuracy Training = 75.00%\n",
      "Accuracy Test     = 73.50%\n",
      "F1 Training = 70.81%\n",
      "F1 Test     = 69.15%\n",
      "Confusion matrix Training = \n",
      " [[530  70]\n",
      " [ 33 167]]\n",
      "Confusion matrix Test = \n",
      " [[130  17]\n",
      " [  7  46]]\n"
     ]
    }
   ],
   "source": [
    "parameters, _, _ = optimise(X, y, num_iterations=5000, learning_rate=op_learning_rate)\n",
    "beta = parameters[\"beta\"]\n",
    "beta_0 = parameters[\"beta_0\"]\n",
    "y_hat = predict(X, beta, beta_0,op_threshold)\n",
    "yt_hat = predict(Xt, beta, beta_0,op_threshold)\n",
    "\n",
    "print(f\"Accuracy Training = {100*accuracy(y,y_hat):.2f}%\")\n",
    "print(f'Accuracy Test     = {100*accuracy(yt,yt_hat):.2f}%')\n",
    "print(f\"F1 Training = {100*F1score(y,y_hat):.2f}%\")\n",
    "print(f'F1 Test     = {100*F1score(yt,yt_hat):.2f}%')\n",
    "print(\"Confusion matrix Training = \\n\",confusion_matrix(y,y_hat))\n",
    "print(\"Confusion matrix Test = \\n\",confusion_matrix(yt,yt_hat))"
   ]
  },
  {
   "cell_type": "markdown",
   "id": "secret-constitution",
   "metadata": {},
   "source": [
    "The model get a good result of 75% accuracy in the training set and 73.5% in the test (not used) data. It's a good sign that the difference between both accuracies is low"
   ]
  },
  {
   "cell_type": "markdown",
   "id": "engaging-democrat",
   "metadata": {},
   "source": [
    "## 2.2 Random forest\n",
    "\n",
    "The implementation of the random forest is based on the implementation of individual decision trees, each of this implementation trees splits the data into binary areas, it uses the cross entropy to compute the best split.\n",
    "\n",
    "We use the function <code>entropy_impurity</code> to compute the best split with <code>best_split</code> in the function <code>build_tree</code> we use the parameter num_features which limits the maximun number of variables that are considered in each step. The function <code>probability</code> computes the probability of being in the class 1 given each leaf.\n",
    "\n",
    "The function <code>best_split</code> takes into account the number of unique values of the variable and determines if it is discrete or continuous.\n",
    "\n",
    "Finally the function <code>random_forest</code> create a tree for the resample of the data. The prediction of the $B$ different number of tree is computed using <code>predict_forest</code>.\n",
    "\n",
    "The cross-validation is perfomed over the number of trees, the maximum depth of the tree and the number of predictors in each split"
   ]
  },
  {
   "cell_type": "code",
   "execution_count": 41,
   "id": "legitimate-internet",
   "metadata": {},
   "outputs": [],
   "source": [
    "X  = np.array(CTrain[[col for col in CTrain.columns if col[0] == 'x']])\n",
    "y  = np.array(CTrain['y'])\n",
    "Xt = np.array(CTest[[col for col in CTest.columns if col[0] == 'x']])\n",
    "yt = np.array(CTest['y'])"
   ]
  },
  {
   "cell_type": "code",
   "execution_count": 42,
   "id": "inner-flooring",
   "metadata": {},
   "outputs": [],
   "source": [
    "def entropy_impurity(y):\n",
    "    \"\"\" \n",
    "    Calculate the gini impurity for labels.\n",
    "    \n",
    "    :param y: a nx1 numpy array\n",
    "    \n",
    "    :returns entropy: a float \n",
    "    \"\"\"\n",
    "    sample_weights = np.ones(y.shape[0]) / y.shape[0]\n",
    "\n",
    "    entropy = 0\n",
    "    num = y.shape[0]\n",
    "    label_counts = {}\n",
    "    for i in range(num):\n",
    "        if y[i] not in label_counts.keys():\n",
    "            label_counts[y[i]] = 0\n",
    "        label_counts[y[i]] += sample_weights[i]\n",
    "\n",
    "    for key in label_counts:\n",
    "        prob = float(label_counts[key]) / float(np.sum(sample_weights))\n",
    "        entropy -= prob * (np.log(prob))\n",
    "\n",
    "    return entropy\n",
    "def best_split(X,y):\n",
    "    \"\"\"\n",
    "    Computes the best split for the data\n",
    "    an the classification variable y \n",
    "    it returns the best split in a \n",
    "    pair (j,s)\n",
    "    \n",
    "    :param X: a DxN numpy array\n",
    "    :param y: a Nx1 numpy array\n",
    "    \n",
    "    :return best: a tuple - (j,s) variable and split\n",
    "    \"\"\"\n",
    "    min_entropy =1\n",
    "    for column in range(X.shape[1]):\n",
    "        s = 0\n",
    "        if len(np.unique(X[:, column]) < 30): # For discrete variable \n",
    "            unique_vals = np.unique(X[:, column])\n",
    "        else: #For continuous variables\n",
    "            unique_vals = np.quantile(X[:, column],q=np.linspace(0,1,10))\n",
    "        for val in unique_vals:\n",
    "            sub1_X,sub2_X, sub1_y,sub2_y = split_dataset(X, y, column, val)\n",
    "            prob1,prob2 = len(sub1_y) / len(y) ,  len(sub2_y) / len(y)\n",
    "            entropy = prob1 * entropy_impurity(sub1_y)  + prob2*entropy_impurity(sub2_y) \n",
    "            if entropy < min_entropy:\n",
    "                min_entropy = entropy\n",
    "                best = (column,val)\n",
    "    return(best)\n",
    "def split_dataset(X, y, column, value):\n",
    "    \"\"\"\n",
    "    Compute the split of the data set (X,y)\n",
    "    given the column and the value \n",
    "   \n",
    "    :param X: a DxN numpy array\n",
    "    :param y: a Nx1 numpy array\n",
    "    :param column: a integer - the column of the feature for splitting\n",
    "    :param value: a float - the value of the split\n",
    "\n",
    "    :return sub1_X: a DxN1 numpy array - Upper split of X\n",
    "    :return sub2_X: a DxN2 numpy array - Lower split of X\n",
    "    :return sub1_y: a N1x1 numpy array - Upper split of y \n",
    "    :return sub2_y: a N2x1 numpy array - Lower split of y \n",
    "    \"\"\" \n",
    "    ret = []\n",
    "    comp = []\n",
    "    for i in range(len(X)):\n",
    "        if X[i, column]<=value:\n",
    "            ret.append(i)\n",
    "        else:\n",
    "            comp.append(i)\n",
    "\n",
    "    sub1_X = X[ret,:]\n",
    "    sub1_y = y[ret]\n",
    "    sub2_X = X[comp,:]\n",
    "    sub2_y = y[comp]\n",
    "\n",
    "    return sub1_X,sub2_X, sub1_y,sub2_y\n",
    "\n",
    "def probability(y):\n",
    "    \"\"\"\n",
    "    Return the probability of y == 0  \n",
    "    \n",
    "    :param y: a Nx1 numpy array\n",
    "    \n",
    "    :return probability: a float\n",
    "    \"\"\"\n",
    "    \n",
    "    probability = sum(y == 1) / len(y)\n",
    "\n",
    "    return probability\n",
    "\n",
    "def build_tree(X, y, feature_names, depth,num_features, max_depth=10, min_samples_leaf=10):\n",
    "    \"\"\" \n",
    "    Build the decision tree according to the data.\n",
    "    \n",
    "    :param X: a DxN numpy array\n",
    "    :param y: a Nx1 numpy array\n",
    "    :param feature_names: a list - names of the variables \n",
    "    :param depth: a integer - current depth for this node.\n",
    "    :param num_features: a integer - number of features to use \n",
    "    :param max_depth: a integer\n",
    "    :param min_samples_leaf: a integer \n",
    "    \n",
    "    :return tree: a dict - \"node\" -> \"leaf\" -> \"right/left\" -> majority_vote\n",
    "    \"\"\"\n",
    "    mytree = dict()\n",
    "\n",
    "    if len(y) ==0:\n",
    "        mytree = { 'node':'leaf' ,  'label': 0 }\n",
    "    elif len(feature_names)==0 or len(np.unique(y))==1 or depth>=max_depth or len(X)<=min_samples_leaf: \n",
    "        mytree = { 'node':'leaf' ,  'label': probability(y) }\n",
    "    else:  \n",
    "        P_hat = np.random.choice(range(X.shape[1]),size = num_features,replace=False)\n",
    "        best_feature_idx, value = best_split(X[:,P_hat],y)\n",
    "        best_feature_idx = P_hat[best_feature_idx]\n",
    "        best_feature_name = feature_names[best_feature_idx]\n",
    "        sub1_X,sub2_X, sub1_y,sub2_y = split_dataset(X, y, best_feature_idx, value)\n",
    "        mytree = { 'node':'split', 'feature_name':best_feature_name, 'value':value }\n",
    "        mytree['left']  = build_tree(sub1_X, sub1_y, feature_names, depth+1,num_features,max_depth,min_samples_leaf) \n",
    "        mytree['right'] = build_tree(sub2_X, sub2_y, feature_names, depth+1,num_features,max_depth,min_samples_leaf) \n",
    "\n",
    "    return mytree\n",
    "def classify_proba(tree, x):\n",
    "    \"\"\"\n",
    "    Classify a single sample with the fitted decision tree.\n",
    "    \n",
    "    :param x: a Nx1 dataframe \n",
    "    \n",
    "    :return class: a integer - predicted testing sample label.\n",
    "    \"\"\"\n",
    "    if tree['node'] == 'leaf':\n",
    "        return tree['label']\n",
    "    else:\n",
    "        feature_name = tree['feature_name']\n",
    "        v = x[feature_name]\n",
    "    if (v <= tree['value']):\n",
    "        return classify_proba(tree['left'],x)\n",
    "    else:\n",
    "        return classify_proba(tree['right'],x)\n",
    "def predict_proba(tree,X):\n",
    "    \"\"\"\n",
    "    Predict classification results for X.\n",
    "    \n",
    "    :param X: a DxN numpy array    \n",
    "    \n",
    "    :return results: a Nx1 numpy array\n",
    "    \"\"\"\n",
    "    if len(X.shape)==1:\n",
    "        return classify_proba(tree, X)\n",
    "    else:\n",
    "        results=[]\n",
    "        for i in range(X.shape[0]):\n",
    "            results.append(classify_proba(tree, X.iloc[i, :]))\n",
    "        return np.array(results)\n",
    "def random_forest(X,y,n_trees,feature_names,depth,num_features,max_depth,min_samples_leaf):\n",
    "    \"\"\"\n",
    "    Computes n_trees resampling the data for\n",
    "    each computation, returns a list of all the \n",
    "    trees build\n",
    "    \n",
    "    :param X: a DxN numpy array\n",
    "    :param y: a Nx1 numpy array\n",
    "    :param n_trees: a integer\n",
    "    :param feature_names: a list - names of the variables \n",
    "    :param depth: a integer - current depth for this node.\n",
    "    :param num_features: a integer - number of features to use \n",
    "    :param max_depth: a integer\n",
    "    :param min_samples_leaf: a integer \n",
    "    \n",
    "    :return forest: a list of dicts - each dict is a tree    \n",
    "    \"\"\"   \n",
    "    N = len(X)\n",
    "    forest = []\n",
    "    for b in range(n_trees):\n",
    "        b_index = np.random.choice(range(N),size = N)\n",
    "        X_b = X[b_index,:]\n",
    "        y_b = y[b_index]\n",
    "        forest.append(build_tree(X_b, y_b, feature_names, depth,num_features,max_depth,min_samples_leaf))\n",
    "    return(forest)\n",
    "def predict_proba_forest(X,forest):\n",
    "    \"\"\"\n",
    "    Predict the value of a data set\n",
    "    X given the forest\n",
    "    \n",
    "    :param X: a DxN numpy array\n",
    "    :param forest: a list - of dicts corresponding of trees\n",
    "    \n",
    "    :return y: a Nx1 numpy array\n",
    "    \"\"\"    \n",
    "    D, N = X.shape\n",
    "    y_pred = []    \n",
    "    forest_pred = []\n",
    "    for tree in forest:\n",
    "        forest_pred.append(predict_proba(tree,X))\n",
    "    \n",
    "    y_pred = np.mean(np.array(forest_pred),axis=0)\n",
    "    return(y_pred)\n",
    "def predict_forest(X,forest):\n",
    "    \"\"\"\n",
    "    Predict the value of a data set\n",
    "    X given the forest\n",
    "    \n",
    "    :param X: a DxN numpy array\n",
    "    :param forest: a list - of dicts corresponding of trees\n",
    "    \n",
    "    :return y: a Nx1 numpy array\n",
    "    \"\"\"    \n",
    "    y_proba = predict_proba_forest(X,forest)\n",
    "    y_pred = np.round(y_proba)\n",
    "    \n",
    "    return(y_pred)\n",
    "def cv_randomforest(X,y,T,hypergrid):\n",
    "    \"\"\"Finds the best selection of hyperparameters\n",
    "    for the data set X,y using T-folds for the \n",
    "    random forest model classification\n",
    "    \n",
    "    :param X: an NxD numpy array\n",
    "    :param y: an Mx1 numpy array\n",
    "    :param T: an integer \n",
    "    :param hypergrid: a dictionary with parameters\n",
    "    \n",
    "    :return op_params: a tuple - the 3 optimal parameters\n",
    "    :return Results: a LxJ numpy array\n",
    "    :return op_index: a tuple - the index of the optimal result\n",
    "    \"\"\"     \n",
    "    Xs,ys = data_split(X,y,T)\n",
    "    Results = np.zeros((len(hypergrid['max_depth']),len(hypergrid['num_features']),len(hypergrid['num_trees'])))\n",
    "    Params = [(x,y,z) for x in hypergrid['max_depth'] for y in hypergrid['num_features'] for z in hypergrid['num_trees']]\n",
    "    Params = np.array(Params)\n",
    "    for i,max_depth in enumerate(hypergrid['max_depth']):\n",
    "        for j,num_features in enumerate(hypergrid['num_features']):\n",
    "            for k,num_trees in enumerate(hypergrid['num_trees']):\n",
    "                acc_s = []\n",
    "                for t in range(T):\n",
    "                    Xcs = np.concatenate([x for i,x in enumerate(Xs) if i!=t])\n",
    "                    ycs = np.concatenate([y for i,y in enumerate(ys) if i!=t])\n",
    "                    Trees = random_forest(Xcs,ycs,num_trees,list(CTrain.columns),depth=1, num_features=num_features,\n",
    "                                            max_depth=max_depth,min_samples_leaf=3)\n",
    "                    ycs_hat =predict_forest(pd.DataFrame(Xs[t],columns=CTrain.columns[:-1]),Trees)\n",
    "                    acc_s.append(accuracy(ys[t],ycs_hat))\n",
    "                Results[i,j,k] = np.mean(acc_s) \n",
    "    \n",
    "    op_index = np.unravel_index(np.argmax(Results),shape=Results.shape)      \n",
    "    \n",
    "    return(Params[np.argmax(Results)],Results,op_index)"
   ]
  },
  {
   "cell_type": "code",
   "execution_count": 226,
   "id": "noted-painting",
   "metadata": {},
   "outputs": [
    {
     "name": "stdout",
     "output_type": "stream",
     "text": [
      "Optimal max depth = 8\n",
      "Optimal num features = 7\n",
      "Optimal num trees = 50\n",
      "Maximum accuracy = 74.19%\n",
      "Wall time: 1h 6min 42s\n"
     ]
    }
   ],
   "source": [
    "%%time\n",
    "hypergrid = {'max_depth':[5,8,10],'num_features':[3,4,5,7],'num_trees':[1,5,10,20,50]}\n",
    "(op_max_depth, op_num_features, op_num_trees),Results,op_index =  cv_randomforest(X,y,5,hypergrid)\n",
    "print(f\"Optimal max depth = {op_max_depth}\")\n",
    "print(f\"Optimal num features = {op_num_features}\")\n",
    "print(f\"Optimal num trees = {op_num_trees}\")\n",
    "print(f'Maximum accuracy = {100*Results[op_index]:.2f}%')"
   ]
  },
  {
   "cell_type": "code",
   "execution_count": 43,
   "id": "dying-matrix",
   "metadata": {},
   "outputs": [
    {
     "name": "stdout",
     "output_type": "stream",
     "text": [
      "Accuracy Training = 85.88%\n",
      "Accuracy Test     = 76.50%\n",
      "F1 Training = 76.22%\n",
      "F1 Test     = 70.74%\n",
      "Confusion matrix Training = \n",
      " [[561 111]\n",
      " [  2 126]]\n",
      "Confusion matrix Test = \n",
      " [[133  43]\n",
      " [  4  20]]\n"
     ]
    }
   ],
   "source": [
    "forest = random_forest(X,y,op_num_trees,list(CTrain.columns),depth=1,num_features=op_num_features,\n",
    "                            max_depth=op_max_depth,min_samples_leaf=3)\n",
    "y_hat =  predict_forest(pd.DataFrame(X,columns=CTrain.columns[:-1]),forest)\n",
    "yt_hat = predict_forest(pd.DataFrame(Xt,columns=CTrain.columns[:-1]),forest)\n",
    "print(f\"Accuracy Training = {100*accuracy(y,y_hat):.2f}%\")\n",
    "print(f'Accuracy Test     = {100*accuracy(yt,yt_hat):.2f}%')\n",
    "print(f\"F1 Training = {100*F1score(y,y_hat):.2f}%\")\n",
    "print(f'F1 Test     = {100*F1score(yt,yt_hat):.2f}%')\n",
    "print(\"Confusion matrix Training = \\n\",confusion_matrix(y,y_hat))\n",
    "print(\"Confusion matrix Test = \\n\",confusion_matrix(yt,yt_hat))"
   ]
  },
  {
   "cell_type": "markdown",
   "id": "short-rendering",
   "metadata": {},
   "source": [
    "We found an accuracy of 77% in the test dataset, with a best result of 86% in the training set, the computation time for this functio took an hour and 6 minutes, that's the reason for not looking for more parameters in the hypergrid. "
   ]
  },
  {
   "cell_type": "markdown",
   "id": "polar-modern",
   "metadata": {},
   "source": [
    "## 2.3 Support vector machines"
   ]
  },
  {
   "cell_type": "code",
   "execution_count": 44,
   "id": "split-accreditation",
   "metadata": {},
   "outputs": [],
   "source": [
    "CTrain = pd.read_csv('classification_train.csv',header=None)\n",
    "CTrain.columns = [f'x{i+1}' for i in range(CTrain.shape[1]-1)] + ['y']\n",
    "CTest = pd.read_csv('classification_test.csv',header=None)\n",
    "CTest.columns = [f'x{i+1}' for i in range(CTest.shape[1]-1)] + ['y']\n",
    "\n",
    "\n",
    "X = CTrain[[col for col in CTrain.columns if col[0] == 'x']]\n",
    "y = CTrain['y'].map({0:-1,1:1})\n",
    "\n",
    "Xt = CTest[[col for col in CTrain.columns if col[0] == 'x']]\n",
    "yt = CTest['y'].map({0:-1,1:1})\n",
    "\n",
    "N = X.shape[0]\n",
    "\n",
    "X_std = X.copy()\n",
    "\n",
    "X_std,mu,std = standardise(X_std)\n",
    "Xt_std = (Xt - mu) / std\n",
    "\n",
    "X_std.insert(loc= len(X_std.columns),  column='intercept', value=1)\n",
    "Xt_std.insert(loc=len(Xt_std.columns), column='intercept', value=1)\n",
    "\n",
    "X.insert(loc= len(X.columns),  column='intercept', value=1)\n",
    "Xt.insert(loc=len(Xt.columns), column='intercept', value=1)"
   ]
  },
  {
   "cell_type": "markdown",
   "id": "binary-oakland",
   "metadata": {},
   "source": [
    "### 2.3.1 Hard Margin Linear SVM \n",
    "\n",
    "We can compute the hard margin linear SVM by aproximating using the soft margin. If we let the regulation parameter $\\lambda$ be very large then the cost of missclasification is stronger and the resulting model is closer to the hard margin model."
   ]
  },
  {
   "cell_type": "code",
   "execution_count": 45,
   "id": "random-lighting",
   "metadata": {},
   "outputs": [],
   "source": [
    "def compute_cost(W, X, y, regul_strength=1e5):\n",
    "    \"\"\"\n",
    "    Computes the cost of the parameters W\n",
    "    given the data X,y and the regulation\n",
    "    strength \n",
    "    \n",
    "    :param W: a Dx1 numpy array\n",
    "    :param X: a DxN numpy array\n",
    "    :param y: a Nx1 numpy array\n",
    "    :param regul_strength: a float\n",
    "    \n",
    "    :return cost: a float\n",
    "    \"\"\"\n",
    "    n = X.shape[0]\n",
    "    distances = 1 - y * (np.dot(X, W)) \n",
    "    distances[distances < 0] = 0 \n",
    "    hinge = regul_strength * (np.sum(distances) / n) \n",
    "\n",
    "    cost = 1 / 2 * np.dot(W, W) + hinge\n",
    "    return cost\n",
    "def calculate_cost_gradient(W, X, y, regul_strength=1e5):\n",
    "    \"\"\"\n",
    "    Compute the gradient of the cost \n",
    "    function given the value of the parameter\n",
    "    and the data.\n",
    "    \n",
    "    :param W: a Dx1 numpy array\n",
    "    :param X: a DxN numpy array\n",
    "    :param y: a Nx1 numpy array\n",
    "    :param regul_strength: a float\n",
    "    \n",
    "    :return dw: a Dx1 numpy array\n",
    "    \"\"\"\n",
    "    \n",
    "    if type(y) == np.int64:\n",
    "        y = np.asarray([y])\n",
    "        X = np.asarray([X])  \n",
    "    distance = 1 - (y * np.dot(X, W))\n",
    "    dw = np.zeros(len(W))\n",
    "\n",
    "    for ind, d in enumerate(distance):\n",
    "        if max(0, d)==0:\n",
    "            di = W\n",
    "        else:\n",
    "            di = W - (regul_strength * y[ind] * X[ind])\n",
    "        dw += di\n",
    "\n",
    "    dw = dw/len(y)\n",
    "    return dw\n",
    "\n",
    "def linear_svm_sgd(X, y, max_iterations=2000, stop_criterion=0.01, learning_rate=1e-5, regul_strength=1e5, print_outcome=False):\n",
    "    \"\"\"\n",
    "    Computes the optimal parameter W using \n",
    "    stochastic gradient descent for the data X,y, \n",
    "    and given the learning rate, regulation strength \n",
    "    parameter, stop criterion and the maximun number \n",
    "    of iterations\n",
    "    \n",
    "    :param X: a DxN numpy array\n",
    "    :param y: a Nx1 numpy array\n",
    "    :param max_iterations: a integer\n",
    "    :param stop criterion: a float\n",
    "    :param learning_rate: a float\n",
    "    :param regul_strength: a float\n",
    "    :param print_outcome: a boolean\n",
    "    \n",
    "    :return weights: a Dx1 numpy parameter    \n",
    "    \"\"\"\n",
    "    weights = np.zeros(X.shape[1])\n",
    "    nth = 0\n",
    "\n",
    "    prev_cost = np.inf\n",
    "\n",
    "    for iteration in range(1, max_iterations):\n",
    "        np.random.shuffle([X, y])\n",
    "        for ind, x in enumerate(X):\n",
    "            ascent = calculate_cost_gradient(weights, x, y[ind], regul_strength) \n",
    "            weights = weights - (learning_rate * ascent)\n",
    "\n",
    "        if iteration==2**nth or iteration==max_iterations-1:\n",
    "\n",
    "            cost = compute_cost(weights, X, y, regul_strength) \n",
    "            if print_outcome:\n",
    "                print(\"Iteration is: {}, Cost is: {}\".format(iteration, cost))\n",
    "\n",
    "            if abs(prev_cost - cost) < stop_criterion * prev_cost:\n",
    "                return weights\n",
    "          \n",
    "            prev_cost = cost\n",
    "            nth += 1\n",
    "  \n",
    "    return weights\n",
    "def predict_svm(W,X):\n",
    "    \"\"\" \n",
    "    Given a array of parameters W computes\n",
    "    the prediction for the dataset X\n",
    "    \n",
    "    :param W: a Dx1 numpy array\n",
    "    :param X: a NxD numpya array\n",
    "    \n",
    "    :return y_pred: a Nx1 numpy array\n",
    "    \"\"\"\n",
    "    \n",
    "    y_preds = np.array([])\n",
    "    for i in range(X.shape[0]):\n",
    "        y_pred = np.sign(np.dot(X[i], W))\n",
    "        y_preds = np.append(y_preds, y_pred)\n",
    "    return(np.array(y_preds))"
   ]
  },
  {
   "cell_type": "code",
   "execution_count": 386,
   "id": "second-cargo",
   "metadata": {},
   "outputs": [
    {
     "data": {
      "image/png": "[encoded data removed]",
      "text/plain": [
       "<Figure size 432x288 with 1 Axes>"
      ]
     },
     "metadata": {
      "needs_background": "light"
     },
     "output_type": "display_data"
    }
   ],
   "source": [
    "acc = []\n",
    "for i in np.linspace(2,20):\n",
    "    W = linear_svm_sgd(np.array(X_std), np.array(y), max_iterations=200,regul_strength=10**i)\n",
    "    y_hat  = predict_svm(W,np.array(X_std))\n",
    "    acc.append(score(y,y_hat))\n",
    "_ = plt.plot(10 ** np.linspace(2,20) ,acc,color='k')\n",
    "_ = plt.xscale(\"log\")\n",
    "_ = plt.ylabel(\"Accuracy\")\n",
    "_ = plt.xlabel(\"Regulation Strength\")\n",
    "_ = plt.title(\"Convergence of the accuracy\")\n",
    "_ = plt.grid(alpha=0.4)"
   ]
  },
  {
   "cell_type": "markdown",
   "id": "complicated-parks",
   "metadata": {},
   "source": [
    "In order to verify that the regulation strength is big enough we run the algorithm for big values of the parameter and compute the prediction and accuracy with each of them, we would like to find convergenge in the predictions.\n",
    "We don't find convergence in the estimated parameters, they increase as the parameter increase, we can see that for a parameter bigger than $10^{10}$ there is no change in the accuracy"
   ]
  },
  {
   "cell_type": "code",
   "execution_count": 46,
   "id": "quiet-brass",
   "metadata": {},
   "outputs": [
    {
     "name": "stdout",
     "output_type": "stream",
     "text": [
      "Accuracy Training = 61.75%\n",
      "Accuracy Test     = 64.00%\n",
      "F1 Training = 58.45%\n",
      "F1 Test     = 60.18%\n",
      "Confusion matrix Training = \n",
      " [[382 125]\n",
      " [181 112]]\n",
      "Confusion matrix Test = \n",
      " [[102  37]\n",
      " [ 35  26]]\n"
     ]
    }
   ],
   "source": [
    "W = linear_svm_sgd(np.array(X_std), np.array(y), max_iterations=1000,regul_strength=1e10)\n",
    "y_hat  = predict_svm(W,np.array(X_std))\n",
    "yt_hat = predict_svm(W,np.array(Xt_std))\n",
    "print(f\"Accuracy Training = {100*score(y,y_hat):.2f}%\")\n",
    "print(f'Accuracy Test     = {100*score(yt,yt_hat):.2f}%')\n",
    "print(f\"F1 Training = {100*F1score(y,y_hat):.2f}%\")\n",
    "print(f'F1 Test     = {100*F1score(yt,yt_hat):.2f}%')\n",
    "print(\"Confusion matrix Training = \\n\",confusion_matrix(y,y_hat))\n",
    "print(\"Confusion matrix Test = \\n\",confusion_matrix(yt,yt_hat))"
   ]
  },
  {
   "cell_type": "markdown",
   "id": "loose-phoenix",
   "metadata": {},
   "source": [
    "We find that the result standarizing the data is not very good, we ran the model using the non-standarize data: "
   ]
  },
  {
   "cell_type": "code",
   "execution_count": 164,
   "id": "physical-actress",
   "metadata": {},
   "outputs": [
    {
     "name": "stdout",
     "output_type": "stream",
     "text": [
      "Accuracy Training = 70.88%\n",
      "Accuracy Test     = 68.50%\n",
      "F1 Training = 70.55%\n",
      "F1 Test     = 68.50%\n",
      "Confusion matrix Training = \n",
      " [[563 233]\n",
      " [  0   4]]\n",
      "Confusion matrix Test = \n",
      " [[137  63]\n",
      " [  0   0]]\n"
     ]
    }
   ],
   "source": [
    "W = linear_svm_sgd(np.array(X), np.array(y), max_iterations=1000,regul_strength=1e10)\n",
    "y_hat  = predict_svm(W,np.array(X))\n",
    "yt_hat = predict_svm(W,np.array(Xt))\n",
    "print(f\"Accuracy Training = {100*score(y,y_hat):.2f}%\")\n",
    "print(f'Accuracy Test     = {100*score(yt,yt_hat):.2f}%')\n",
    "print(f\"F1 Training = {100*F1score(y,y_hat):.2f}%\")\n",
    "print(f'F1 Test     = {100*F1score(yt,yt_hat):.2f}%')\n",
    "print(\"Confusion matrix Training = \\n\",confusion_matrix(y,y_hat))\n",
    "print(\"Confusion matrix Test = \\n\",confusion_matrix(yt,yt_hat))"
   ]
  },
  {
   "cell_type": "markdown",
   "id": "rural-argentina",
   "metadata": {},
   "source": [
    "We get a best result, nonetheless in the confussion matrix we can see that is classifying almost everything on 1, we could fix that by modifying the parameter $b$ we train the model over $W$ and then we do cross validation to find the optimal value for $b$"
   ]
  },
  {
   "cell_type": "code",
   "execution_count": 185,
   "id": "wound-image",
   "metadata": {},
   "outputs": [],
   "source": [
    "def cv_linearsvm(X,y,T,hypergrid):\n",
    "    \"\"\"Finds the best parameter b\n",
    "    given the data X,y and the number of\n",
    "    folds T \n",
    "    \n",
    "    :param X: an NxD numpy array\n",
    "    :param y: an Mx1 numpy array\n",
    "    :param T: an integer \n",
    "    :param hypergrid: a dictionary with parameters\n",
    "    \n",
    "    :return op_params: a tuple - the 3 optimal parameters\n",
    "    :return Results: a LxJ numpy array\n",
    "    \"\"\"     \n",
    "    Xs,ys = data_split(X,y,T)\n",
    "    Results = []\n",
    "    Params = np.array(hypergrid['b'])\n",
    "    \n",
    "    \n",
    "    for t in range(T):\n",
    "        Xcs = np.concatenate([x for i,x in enumerate(Xs) if i!=t])\n",
    "        ycs = np.concatenate([y for i,y in enumerate(ys) if i!=t])\n",
    "        W = linear_svm_sgd(Xcs, ycs, max_iterations=1000,regul_strength=1e10)\n",
    "        acc_s = []\n",
    "        for k,b in enumerate(hypergrid['b']):\n",
    "            W[-1] = b \n",
    "            ycs_hat = predict_svm(W,np.array(Xs[t]))\n",
    "            acc_s.append(F1score(ys[t],ycs_hat))\n",
    "        Results.append(acc_s)\n",
    "    \n",
    "#     op_index = np.argmax(Results)\n",
    "    \n",
    "    return(Results)"
   ]
  },
  {
   "cell_type": "code",
   "execution_count": 198,
   "id": "existing-louis",
   "metadata": {},
   "outputs": [
    {
     "data": {
      "text/plain": [
       "Text(0, 0.5, '$F_1$ Score')"
      ]
     },
     "execution_count": 198,
     "metadata": {},
     "output_type": "execute_result"
    },
    {
     "data": {
      "image/png": "[encoded data removed]",
      "text/plain": [
       "<Figure size 432x288 with 1 Axes>"
      ]
     },
     "metadata": {
      "needs_background": "light"
     },
     "output_type": "display_data"
    }
   ],
   "source": [
    "hypergrid = {'b':np.linspace(-80000,500000,200)}\n",
    "Results = cv_linearsvm(np.array(X),np.array(y),5,hypergrid)\n",
    "accuracies = np.array(Results).mean(axis=0) \n",
    "op_b = hypergrid['b'][np.argmax(accuracies)]\n",
    "plt.plot(hypergrid['b'],accuracies)\n",
    "plt.title(f\"Optimal b = {op_b:.2f}\")\n",
    "plt.xlabel('$b$')\n",
    "plt.grid(alpha=0.3)\n",
    "plt.ylabel(\"$F_1$ Score\")"
   ]
  },
  {
   "cell_type": "code",
   "execution_count": 202,
   "id": "behind-number",
   "metadata": {},
   "outputs": [
    {
     "name": "stdout",
     "output_type": "stream",
     "text": [
      "168649.09006649622\n",
      "Accuracy Training = 70.50%\n",
      "Accuracy Test     = 68.50%\n",
      "F1 Training = 70.42%\n",
      "F1 Test     = 68.50%\n",
      "Confusion matrix Training = \n",
      " [[563 236]\n",
      " [  0   1]]\n",
      "Confusion matrix Test = \n",
      " [[137  63]\n",
      " [  0   0]]\n"
     ]
    }
   ],
   "source": [
    "W = linear_svm_sgd(np.array(X), np.array(y), max_iterations=1000,regul_strength=1e10)\n",
    "print(W[-1])\n",
    "W[-1] = op_b #replace by the optimal \n",
    "y_hat  = predict_svm(W,np.array(X))\n",
    "yt_hat = predict_svm(W,np.array(Xt))\n",
    "print(f\"Accuracy Training = {100*score(y,y_hat):.2f}%\")\n",
    "print(f'Accuracy Test     = {100*score(yt,yt_hat):.2f}%')\n",
    "print(f\"F1 Training = {100*F1score(y,y_hat):.2f}%\")\n",
    "print(f'F1 Test     = {100*F1score(yt,yt_hat):.2f}%')\n",
    "print(\"Confusion matrix Training = \\n\",confusion_matrix(y,y_hat))\n",
    "print(\"Confusion matrix Test = \\n\",confusion_matrix(yt,yt_hat))"
   ]
  },
  {
   "cell_type": "markdown",
   "id": "compressed-nickel",
   "metadata": {},
   "source": [
    "The result was not very succesful, most classification goes to one, the more we increase $b$ the more positive the function $\\langle X_i, W \\rangle$ is"
   ]
  },
  {
   "cell_type": "markdown",
   "id": "willing-covering",
   "metadata": {},
   "source": [
    "### 2.3.1 Hard Margin RBF SVM "
   ]
  },
  {
   "cell_type": "markdown",
   "id": "enhanced-prague",
   "metadata": {},
   "source": [
    "The formulation of the linear SVM is to solve the following problem \n",
    "$$\\min_{\\omega \\in \\mathbb{R}^d}\\frac{1}{2}\\| \\omega \\|^2  \\text{ subject to } y_i \\langle x_i , \\omega \\rangle \\geq 1 \\text{ for } i = 1,...,N$$ \n",
    "The Lagrange (primal) function, to be minimized w.r.t. $\\omega$ is\n",
    "$$\\text{minimize } \\frac{1}{2}\\| \\omega \\|^2  - \\sum_{i=1}^{N}(y_i \\langle x_i , \\omega \\rangle -1 )$$\n",
    "\n",
    "Setting the derivatives to zero, we obtain:\n",
    "\\begin{align}\n",
    "\\omega & = \\sum_{i=1}^N \\alpha_i y_i x_i \\\\\n",
    "0 & =  \\sum_{i=1}^N \\alpha_i y_i\n",
    "\\end{align}\n",
    "Substituing in the original equation we get the dual problem: \n",
    "$$\\text{maximize } \\sum_{i=1}^N \\alpha_i -\\frac{1}{2} \\sum_{i=1}^N \\sum_{j=1}^N\\alpha_i \\alpha_j y_i y_j  \\langle x_i ,x_j \\rangle \\text{ subject to } \\alpha_i\\geq 0 \\text{ and } \\sum_{i=1}^N \\alpha_i y_i = 0$$\n",
    "It can be rewritten as \n",
    "$$\\text{maximize } \\frac{1}{2} \\alpha ^\\top G \\alpha - e ^\\top \\alpha  \\text{ subject to } \\alpha_i\\geq 0 \\text{ and } y^\\top \\alpha = 0$$\n",
    "Where $G$ is the Gram matrix defined as $G_{ij} = y_i y_j \\langle x_i, x_j\\rangle$ we can use the lagrangian \n",
    "\\begin{cases}\n",
    " \\mathcal{L}(\\alpha,b) &=  \\frac{1}{2} \\alpha ^\\top G \\alpha - e ^\\top \\alpha + b y^\\top \\alpha \\\\\n",
    " \\nabla_{\\alpha} \\mathcal{L}(\\alpha,b) & = G \\alpha - e +b y^\\top \\\\\n",
    " \\nabla_{b}\\mathcal{L}(\\alpha,b) & = y^\\top \\alpha\n",
    "\\end{cases}\n",
    "The potential of the dual is that if we change the inner products for a kernel and then we don't have to compute anything else like the derivative of the kernel, we just need the Gramian matrix G.\n",
    "\n",
    "Instead of computing Stochastic Gradient Descent on the primal for the soft margin we can solve for the dual and change for the kernel we would like, if we want a approximation of the hard margin we just increase the value of the regulation in the same way\n",
    "\n",
    "The following code is an adaptation of the code found in [LasseRegin/SVM-w-SMO](https://github.com/LasseRegin/SVM-w-SMO) and in complete detail in the paper [John Platt,Sequential Minimal Optimization: A Fast Algorithm for Training Support Vector Machines](https://www.microsoft.com/en-us/research/publication/sequential-minimal-optimization-a-fast-algorithm-for-training-support-vector-machines/)"
   ]
  },
  {
   "cell_type": "code",
   "execution_count": 207,
   "id": "practical-substance",
   "metadata": {},
   "outputs": [],
   "source": [
    "CTrain = pd.read_csv('classification_train.csv',header=None)\n",
    "CTrain.columns = [f'x{i+1}' for i in range(CTrain.shape[1]-1)] + ['y']\n",
    "CTest = pd.read_csv('classification_test.csv',header=None)\n",
    "CTest.columns = [f'x{i+1}' for i in range(CTest.shape[1]-1)] + ['y']\n",
    "\n",
    "\n",
    "X = np.array(CTrain[[col for col in CTrain.columns if col[0] == 'x']])\n",
    "y = np.array(CTrain['y'].map({0:-1,1:1}))\n",
    "\n",
    "Xt = np.array(CTest[[col for col in CTrain.columns if col[0] == 'x']])\n",
    "yt = np.array(CTest['y'].map({0:-1,1:1}))\n",
    "\n",
    "N = X.shape[0]"
   ]
  },
  {
   "cell_type": "code",
   "execution_count": 467,
   "id": "satisfied-bolivia",
   "metadata": {},
   "outputs": [],
   "source": [
    "def svm_dual(X, y,kernel,r_strength,precision=0.01,max_iter=1000):\n",
    "    \"\"\"\n",
    "    Computes the optimal parameter W and alpha \n",
    "    using the dual problem for soft SVM given the data \n",
    "    X,y, the regulation strength and a given kernel\n",
    "    \n",
    "    :param X: a NxD numpy array \n",
    "    :param y: a Dx1 numpy array\n",
    "    :param kernel: a 2 variable function\n",
    "    :param r_strength: a float \n",
    "    :param precision: a float\n",
    "    :param max_iter: a integer\n",
    "\n",
    "    :return W: a Dx1 numpy array\n",
    "    :return b: a float\n",
    "    :return alpha: a Dx1 numpy array    \n",
    "    \"\"\"\n",
    "    n, d = X.shape[0], X.shape[1]\n",
    "    alpha = np.zeros((n))\n",
    "    count = 0\n",
    "    while (count < max_iter):\n",
    "        count += 1\n",
    "        \n",
    "        alpha_prev = np.copy(alpha)\n",
    "        for j in range(0, n):\n",
    "            i = j\n",
    "            cnt=0\n",
    "            while i == j and cnt<1000:\n",
    "                i = np.random.randint(0,n-1)\n",
    "                cnt=cnt+1\n",
    "            x_i, x_j, y_i, y_j = X[i,:], X[j,:], y[i], y[j]\n",
    "            k_ij = kernel(x_i, x_i) + kernel(x_j, x_j) - 2 * kernel(x_i, x_j)\n",
    "            if k_ij == 0:\n",
    "                continue\n",
    "            alpha_prime_j, alpha_prime_i = alpha[j], alpha[i]\n",
    "            \n",
    "            if(y_i != y_j):\n",
    "                L, H = (max(0, alpha_prime_j - alpha_prime_i), min(r_strength, r_strength - alpha_prime_i + alpha_prime_j))\n",
    "            else:\n",
    "                L, H = (max(0, alpha_prime_i + alpha_prime_j - r_strength), min(r_strength, alpha_prime_i + alpha_prime_j))\n",
    "            \n",
    "            w = np.dot(X.T, np.multiply(alpha,y))\n",
    "            b = np.mean(y - np.dot(w.T, X.T))\n",
    "\n",
    "            E_i = np.sign(np.dot(w.T, x_i.T) + b).astype(int) - y_i\n",
    "            E_j = np.sign(np.dot(w.T, x_j.T) + b).astype(int) - y_j   \n",
    "\n",
    "            alpha[j] = alpha_prime_j + float(y_j * (E_i - E_j))/k_ij\n",
    "            alpha[j] = max(alpha[j], L)\n",
    "            alpha[j] = min(alpha[j], H)\n",
    "\n",
    "            alpha[i] = alpha_prime_i + y_i*y_j * (alpha_prime_j - alpha[j])\n",
    "        diff = np.linalg.norm(alpha - alpha_prev)\n",
    "        if diff < precision:\n",
    "            break\n",
    "    b = np.mean(y - np.dot(w.T, X.T))\n",
    "    if count == max_iter:\n",
    "        print(f\"Maximun number of iterations {max_iter} reached\")\n",
    "\n",
    "    return w,b,alpha\n",
    "def predict_svm_kernel(W,b,X):\n",
    "    \"\"\" \n",
    "    Given a array of parameters W computes\n",
    "    the prediction for the dataset X\n",
    "    \n",
    "    :param W: a Dx1 numpy array\n",
    "    :param X: a NxD numpya array\n",
    "    \n",
    "    :return y_pred: a Nx1 numpy array\n",
    "    \"\"\"\n",
    "    \n",
    "    y_preds = np.array([])\n",
    "    for i in range(X.shape[0]):\n",
    "        y_pred = np.sign(np.dot(X[i], W) + b)\n",
    "        y_preds = np.append(y_preds, y_pred)\n",
    "    return(np.array(y_preds))\n",
    "\n",
    "def cv_svm_RBF(X,y,T,hypergrid):\n",
    "    \"\"\"\n",
    "    Finds the best selection of hyperparameters\n",
    "    for the data set X,y using T-folds for the \n",
    "    SVM model classification using the gaussian\n",
    "    kernel\n",
    "    \n",
    "    :param X: an NxD numpy array\n",
    "    :param y: an Mx1 numpy array\n",
    "    :param T: an integer \n",
    "    :param hypergrid: a dictionary with parameters\n",
    "    \n",
    "    :return op_params: a tuple - the optimal parameters\n",
    "    :return Results: a LxJ numpy array\n",
    "    \"\"\"     \n",
    "    Xs,ys = data_split(X,y,T)\n",
    "    Results = np.zeros((len(hypergrid['c']),len(hypergrid['b'])))\n",
    "    Params =np.array([(c,b) for c in hypergrid['c'] for b in hypergrid['b']])\n",
    "    for i,c in enumerate(hypergrid['c']):\n",
    "        \n",
    "        acc_s = []\n",
    "        RBF_K = lambda x1, x2: np.exp(-np.linalg.norm(x1-x2)**2/ c)\n",
    "        for t in range(T):\n",
    "            Xcs = np.concatenate([x for i,x in enumerate(Xs) if i!=t])\n",
    "            ycs = np.concatenate([y for i,y in enumerate(ys) if i!=t])\n",
    "            W,b,alpha = svm_dual(Xcs,ycs,RBF_K,r_strength=1e12,precision=1e3,max_iter=1000)\n",
    "            for j,b in enumerate(hypergrid['b']):\n",
    "                ycs_hat =predict_svm_kernel(W,b,Xs[t])\n",
    "                acc_s.append(F1score(ys[t],ycs_hat))\n",
    "                Results[i,j] = np.mean(acc_s) \n",
    "        \n",
    "    return(Params, Results)"
   ]
  },
  {
   "cell_type": "code",
   "execution_count": 510,
   "id": "moral-psychology",
   "metadata": {},
   "outputs": [
    {
     "data": {
      "image/png": "[encoded data removed]",
      "text/plain": [
       "<Figure size 432x288 with 2 Axes>"
      ]
     },
     "metadata": {
      "needs_background": "light"
     },
     "output_type": "display_data"
    }
   ],
   "source": [
    "hypergrid={'c':np.linspace(1,10),'b':np.linspace(0,5)}\n",
    "Params, Results = cv_svm_RBF(X,y,T=5,hypergrid=hypergrid)\n",
    "fig, ax = plt.subplots(1,1)\n",
    "img = ax.imshow(Results,extent=[hypergrid['b'].min(), \n",
    "                                hypergrid['b'].max(), \n",
    "                                hypergrid['c'].max(), \n",
    "                                hypergrid['c'].min()], aspect='auto')\n",
    "op_index= np.argmax(Results)\n",
    "c_op, b_op = Params[op_index]\n",
    "_ = fig.colorbar(img,label='Accuracy')\n",
    "_ = plt.title(f\"Optima c = {c_op:.2f}\\n Optimal b= {b_op:.2f}\")\n",
    "_ = ax.set_xlabel(\"b\")\n",
    "_ = ax.set_ylabel(\"c\")"
   ]
  },
  {
   "cell_type": "code",
   "execution_count": 511,
   "id": "unusual-module",
   "metadata": {
    "scrolled": true
   },
   "outputs": [
    {
     "name": "stdout",
     "output_type": "stream",
     "text": [
      "Maximun number of iterations 1000 reached\n",
      "Accuracy Training = 70.50%\n",
      "Accuracy Test     = 68.00%\n",
      "F1 Training = 70.27%\n",
      "F1 Test     = 68.17%\n",
      "Confusion matrix Training = \n",
      " [[559 232]\n",
      " [  4   5]]\n",
      "Confusion matrix Test = \n",
      " [[136  63]\n",
      " [  1   0]]\n"
     ]
    }
   ],
   "source": [
    "RBF_K = lambda x1, x2: np.exp(-np.linalg.norm(x1-x2)**2/ c_op)\n",
    "W,b, alpha = svm_dual(X,y,RBF_K,r_strength=1e12,precision=1e1,max_iter=1000)\n",
    "y_hat  = predict_svm_kernel(W,b_op,X)\n",
    "yt_hat = predict_svm_kernel(W,b_op,Xt)\n",
    "print(f\"Accuracy Training = {100*score(y,y_hat):.2f}%\")\n",
    "print(f'Accuracy Test     = {100*score(yt,yt_hat):.2f}%')\n",
    "print(f\"F1 Training = {100*F1score(y,y_hat):.2f}%\")\n",
    "print(f'F1 Test     = {100*F1score(yt,yt_hat):.2f}%')\n",
    "print(\"Confusion matrix Training = \\n\",confusion_matrix(y,y_hat))\n",
    "print(\"Confusion matrix Test = \\n\",confusion_matrix(yt,yt_hat))"
   ]
  },
  {
   "cell_type": "markdown",
   "id": "blocked-diversity",
   "metadata": {},
   "source": [
    "We don't have a spectacular result using the kernel, we do cross validation over the 2 parameters, the free parameter or threshold b and the bandwith of the gaussian kernel. We again keep the regulation parameter high, the function implemented for solving the problem for $W$ uses a parameter for the precision for wich we want the parameter alpha, in this case that we use a big number for the regulation strength we can achive a great precision in the parameter alpha. This hard margin once again uses an aproximation coming from the soft margin the advantange of using the optimization of the dual is the kernel trick there is only one kernel involved in the optimization. If we would use the primal problem we would have to compute the derivative of the kernel (this is something I tried to avoid, not because the derivative is difficult to compute but because the idea of the kernel trick is to simply replace the inner products by the kernel)"
   ]
  },
  {
   "cell_type": "code",
   "execution_count": 644,
   "id": "exact-costume",
   "metadata": {},
   "outputs": [],
   "source": [
    "def ROC(b):\n",
    "    y_hat  = predict_svm_kernel(W,b,X)\n",
    "    cm  =confusion_matrix(y,y_hat)\n",
    "    TPR = cm[0,0] / (cm[0,0] + cm[1,0]+0.0000001)\n",
    "    FPR = 1 - cm[1,1] / (cm[1,1]+cm[0,1]+0.0000001)\n",
    "#     print(cm)\n",
    "    return(np.array([TPR,FPR]))"
   ]
  },
  {
   "cell_type": "code",
   "execution_count": 645,
   "id": "average-brighton",
   "metadata": {},
   "outputs": [],
   "source": [
    "ROCc = []\n",
    "for b in np.linspace(-10,10,200):\n",
    "    ROCc.append(ROC(b))\n",
    "ROCc = np.array(ROCc).T"
   ]
  },
  {
   "cell_type": "code",
   "execution_count": 646,
   "id": "variable-embassy",
   "metadata": {},
   "outputs": [
    {
     "data": {
      "image/png": "[encoded data removed]",
      "text/plain": [
       "<Figure size 396x360 with 1 Axes>"
      ]
     },
     "metadata": {
      "needs_background": "light"
     },
     "output_type": "display_data"
    }
   ],
   "source": [
    "plt.figure(figsize=(5.5,5))\n",
    "plt.title(\"ROC curve\")\n",
    "plt.xlabel('FPR')\n",
    "plt.ylabel('TPR')\n",
    "plt.xlim(0,1)\n",
    "plt.ylim(0,1)\n",
    "plt.fill_between(ROCc[1,:],ROCc[0,:],color='b',alpha=0.3)\n",
    "plt.plot(ROCc[1,:],ROCc[0,:],color='b')\n",
    "# plt.scatter(ROCc[1,:],ROCc[0,:],color='k')\n",
    "plt.plot([0,1],[0,1],color='red')\n",
    "plt.grid(alpha=0.4)"
   ]
  },
  {
   "cell_type": "markdown",
   "id": "measured-phase",
   "metadata": {},
   "source": [
    "### 3.1 Sigmoid Support Vector Machine \n",
    "For the implementation of the sigmoid we did't succed in use the previous algorithm, we go back to the code seen in class. We focus in doing the optimization task over the primal problem using gradient descent."
   ]
  },
  {
   "cell_type": "code",
   "execution_count": 1038,
   "id": "organic-quantum",
   "metadata": {},
   "outputs": [
    {
     "data": {
      "image/png": "[encoded data removed]",
      "text/plain": [
       "<Figure size 720x360 with 2 Axes>"
      ]
     },
     "metadata": {
      "needs_background": "light"
     },
     "output_type": "display_data"
    }
   ],
   "source": [
    "fig,(ax1,ax2) = plt.subplots(1,2,figsize=(10,5))\n",
    "ax1.plot(np.linspace(-10,10),[0 for x in np.linspace(-10,10)],color='k',lw=1)\n",
    "ax1.plot([0 for x in np.linspace(-10,10)],np.linspace(-1,1),color='k',lw=1)\n",
    "for beta in np.linspace(0.5,1,10):\n",
    "    ax1.plot(np.linspace(-10,10),[beta*np.tanh(x) for x in np.linspace(-10,10)],color=plt.cm.summer(2*beta-1))\n",
    "ax1.grid(alpha=0.3)\n",
    "ax1.set_title(\"Variation of parameter $\\\\beta$\")\n",
    "ax2.plot(np.linspace(-10,10),[0 for x in np.linspace(-10,10)],color='k',lw=1)\n",
    "ax2.plot([0 for x in np.linspace(-10,10)],np.linspace(-2,2),color='k',lw=1)\n",
    "for c in np.linspace(-1,1,10):\n",
    "    ax2.plot(np.linspace(-10,10),[np.tanh(x) + c for x in np.linspace(-10,10)],color=plt.cm.autumn(0.5*c+1))\n",
    "ax2.set_title(\"Variation of parameter $c$\")\n",
    "ax2.set_xlabel(\"x\")\n",
    "ax2.set_ylabel(\"$\\\\tanh(x) + c$\")\n",
    "ax1.set_ylabel(\"$\\\\beta\\\\tanh(x)$\")\n",
    "ax1.set_xlabel(\"x\")\n",
    "ax2.grid(alpha=0.3)"
   ]
  },
  {
   "cell_type": "markdown",
   "id": "accredited-graduation",
   "metadata": {},
   "source": [
    "Knowing the range of the sigmoid function we can know where to look for the parameter $b$ to optimize the prediction $y = \\text{sign}(k(x,W)+b)$"
   ]
  },
  {
   "cell_type": "markdown",
   "id": "missing-vinyl",
   "metadata": {},
   "source": [
    "The computations of the cost and the gradient that we have to take at each step we need the following formulas: \n",
    "$$K(x,y) =\\beta \\text{ tanh}(\\langle x,y\\rangle) + c$$\n",
    "\n",
    "$$\\frac{d}{d\\boldsymbol w}K(\\boldsymbol w,x)  = \\beta x(1-\\text{ tanh}^2(\\langle \\boldsymbol w,x\\rangle)) $$\n",
    "\n",
    "$$K(\\boldsymbol w,\\boldsymbol w) =\\beta \\text{ tanh}(\\| \\boldsymbol w\\|^2) + c $$\n",
    "\n",
    "$$\\frac{d}{d\\boldsymbol w}K(\\boldsymbol w,\\boldsymbol w)  = 2\\beta x  (1-\\text{ tanh}^2(\\langle \\boldsymbol w,x\\rangle)) $$\n",
    "\n",
    "$$\n",
    "\\mathcal L (\\boldsymbol w) = \\frac{1}{2}K( \\boldsymbol w, \\boldsymbol w) + \\frac{\\lambda}{n} \\sum_{i=1}^n \\max \\bigg( 0, 1-y_i (K(\\boldsymbol w , x_i) + b) \\bigg) \\, .\n",
    "$$\n",
    "\n",
    "$$\n",
    "\\nabla\\mathcal L (\\boldsymbol w) = \\beta \\boldsymbol w(1-\\text{ tanh}^2(\\langle \\boldsymbol w, \\boldsymbol w\\rangle) + x\\beta \\frac{\\lambda}{n} \\sum_{i=1}^n \\max \\bigg( 0, -y_i (1-\\text{ tanh}^2(\\langle \\boldsymbol w, \\boldsymbol x\\rangle)) \\bigg) \\, .\n",
    "$$\n",
    "\n",
    "$$\n",
    "\\boldsymbol w = \\boldsymbol w  - \\alpha \\frac{\\partial \\mathcal L}{\\partial \\boldsymbol w}\n",
    "$$"
   ]
  },
  {
   "cell_type": "code",
   "execution_count": 1100,
   "id": "subsequent-attempt",
   "metadata": {},
   "outputs": [],
   "source": [
    "sigmoid = lambda x1, x2,beta,c: beta * np.tanh(np.dot(x1,x2)) + c\n",
    "def compute_cost(W, X, y,beta,c, regul_strength=1e5):\n",
    "    \"\"\"\n",
    "    Computes the cost of the parameters W\n",
    "    given the data X,y and the regulation\n",
    "    strength \n",
    "    \n",
    "    :param W: a Dx1 numpy array\n",
    "    :param X: a DxN numpy array\n",
    "    :param y: a Nx1 numpy array\n",
    "    :param regul_strength: a float\n",
    "    \n",
    "    :return cost: a float\n",
    "    \"\"\"\n",
    "    n = X.shape[0]\n",
    "    distances = np.zeros((n))\n",
    "    for i in range(n):\n",
    "        distances[i] = 1 - y[i] * sigmoid(X[i,:],W,beta,c) #replaced inner product by kernel\n",
    "    distances[distances < 0] = 0 \n",
    "    hinge = regul_strength * (np.sum(distances) / n) #replaced inner product by kernel\n",
    "\n",
    "    cost = 1 / 2 *  sigmoid(W,W,beta,c) + hinge\n",
    "    return cost\n",
    "def calculate_cost_gradient(W, X, y,beta,c,regul_strength=1e5):\n",
    "    \"\"\"\n",
    "    Compute the gradient of the cost \n",
    "    function given the value of the parameter\n",
    "    and the data.\n",
    "    \n",
    "    :param W: a Dx1 numpy array\n",
    "    :param X: a DxN numpy array\n",
    "    :param y: a Nx1 numpy array\n",
    "    :param regul_strength: a float\n",
    "    \n",
    "    :return dw: a Dx1 numpy array\n",
    "    \"\"\"\n",
    "    \n",
    "    if type(y) == np.int64:\n",
    "        y = np.asarray([y])\n",
    "        X = np.asarray([X])  \n",
    "        \n",
    "    n = X.shape[0]    \n",
    "    distances = np.zeros((n))\n",
    "    for i in range(n):\n",
    "        distances[i] = 1 - y[i] * sigmoid(X[i,:],W,beta,c) #replaced inner product by kernel\n",
    "    dw = np.zeros(len(W))\n",
    "    \n",
    "    for ind, d in enumerate(distances):\n",
    "        if max(0, d)==0:\n",
    "            di = W * (1 - np.tanh(np.linalg.norm(W))**2) * beta # derivative of the kernel \n",
    "        else:\n",
    "            di =  W*(1 - np.tanh(np.linalg.norm(W))**2)*beta - (regul_strength*y[ind]*X[ind] * (1 - np.tanh(np.dot(W,X[ind]))**2) * beta)\n",
    "        dw += di\n",
    "\n",
    "    dw = dw/len(y)\n",
    "    return dw\n",
    "\n",
    "def sigmoid_svm_sgd(X, y,beta,c, max_iterations=2000, stop_criterion=0.01, learning_rate=1e-5, regul_strength=1e5, print_outcome=False):\n",
    "    \"\"\"\n",
    "    Computes the optimal parameter W using \n",
    "    stochastic gradient descent for the data X,y, \n",
    "    and given the learning rate, regulation strength \n",
    "    parameter, stop criterion and the maximun number \n",
    "    of iterations\n",
    "    \n",
    "    :param X: a DxN numpy array\n",
    "    :param y: a Nx1 numpy array\n",
    "    :param max_iterations: a integer\n",
    "    :param stop criterion: a float\n",
    "    :param learning_rate: a float\n",
    "    :param regul_strength: a float\n",
    "    :param print_outcome: a boolean\n",
    "    \n",
    "    :return weights: a Dx1 numpy parameter    \n",
    "    \"\"\"\n",
    "    weights = np.zeros(X.shape[1])\n",
    "    nth = 0\n",
    "\n",
    "    prev_cost = np.inf\n",
    "\n",
    "    for iteration in range(1, max_iterations):\n",
    "        np.random.shuffle([X, y])\n",
    "        for ind, x in enumerate(X):\n",
    "            ascent = calculate_cost_gradient(weights, x, y[ind],beta,c, regul_strength) \n",
    "            weights = weights - (learning_rate * ascent)\n",
    "\n",
    "        if iteration==2**nth or iteration==max_iterations-1:\n",
    "\n",
    "            cost = compute_cost(weights, X, y,beta,c,regul_strength) \n",
    "            if print_outcome:\n",
    "                print(\"Iteration is: {}, Cost is: {}\".format(iteration, cost))\n",
    "\n",
    "            if abs(prev_cost - cost) < stop_criterion * prev_cost:\n",
    "                return weights\n",
    "          \n",
    "            prev_cost = cost\n",
    "            nth += 1\n",
    "  \n",
    "    return weights\n",
    "def predict_svm(W,X,beta,c,b):\n",
    "    \"\"\" \n",
    "    Given a array of parameters W computes\n",
    "    the prediction for the dataset X\n",
    "    \n",
    "    :param W: a Dx1 numpy array\n",
    "    :param X: a NxD numpya array\n",
    "    \n",
    "    :return y_pred: a Nx1 numpy array\n",
    "    \"\"\"\n",
    "    \n",
    "    y_preds = np.array([])\n",
    "    for i in range(X.shape[0]):\n",
    "        y_pred = np.sign(sigmoid(X[i], W,beta,c)+ b)\n",
    "        y_preds = np.append(y_preds, y_pred)\n",
    "    return(np.array(y_preds))\n",
    "def cv_svm_sigmoid(X,y,T,hypergrid):\n",
    "    \"\"\"\n",
    "    Finds the best selection of hyperparameters\n",
    "    for the data set X,y using T-folds for the \n",
    "    SVM model classification using the sigmoid\n",
    "    kernel\n",
    "    \n",
    "    :param X: an NxD numpy array\n",
    "    :param y: an Mx1 numpy array\n",
    "    :param T: an integer \n",
    "    :param hypergrid: a dictionary with parameters\n",
    "    \n",
    "    :return op_params: a tuple - the optimal parameters\n",
    "    :return Results: a LxJ numpy array\n",
    "    \"\"\"     \n",
    "    Xs,ys = data_split(X,y,T)\n",
    "    Results = np.zeros((len(hypergrid['c']),len(hypergrid['beta'])))\n",
    "    Params =np.array([(c,b) for c in hypergrid['c'] for b in hypergrid['beta']])\n",
    "    for i,c in enumerate(hypergrid['c']):\n",
    "        for k,beta in enumerate(hypergrid['beta']):\n",
    "            acc_s = []\n",
    "            for t in range(T):\n",
    "                Xcs = np.concatenate([x for i,x in enumerate(Xs) if i!=t])\n",
    "                ycs = np.concatenate([y for i,y in enumerate(ys) if i!=t])\n",
    "                W = sigmoid_svm_sgd(Xcs, ycs,beta,c, max_iterations=2000, stop_criterion=0.01, learning_rate=1e-2, regul_strength=1)\n",
    "                scores = []\n",
    "                ## We look for the values of b that make sense for the fitted parameter\n",
    "                for b in np.linspace(-c,c):\n",
    "                    ycs_hat =predict_svm(W,Xs[t],beta,c,b)\n",
    "                    scores.append(F1score(ys[t],ycs_hat))\n",
    "                acc_s.append(max(scores))\n",
    "            Results[i,k] = np.mean(acc_s) \n",
    "        \n",
    "    return(Params, Results)"
   ]
  },
  {
   "cell_type": "code",
   "execution_count": 1118,
   "id": "every-oriental",
   "metadata": {},
   "outputs": [
    {
     "data": {
      "image/png": "[encoded data removed]",
      "text/plain": [
       "<Figure size 432x288 with 2 Axes>"
      ]
     },
     "metadata": {
      "needs_background": "light"
     },
     "output_type": "display_data"
    }
   ],
   "source": [
    "hypergrid = {'c':np.linspace(0,5),'beta':np.linspace(0.1,10)}\n",
    "Params, Results = cv_svm_sigmoid(X,y,5,hypergrid)\n",
    "fig, ax = plt.subplots(1,1)\n",
    "img = ax.imshow(Results,extent=[hypergrid['beta'].min(), \n",
    "                                hypergrid['beta'].max(), \n",
    "                                hypergrid['c'].max(), \n",
    "                                hypergrid['c'].min()], aspect='auto')\n",
    "op_index= np.argmax(Results)\n",
    "c_op, beta_op = Params[op_index]\n",
    "_ = fig.colorbar(img,label='Accuracy')\n",
    "_ = plt.title(f\"Optimal c = {c_op:.2f}\\n Optimal beta= {beta_op:.2f}\")\n",
    "_ = ax.set_xlabel(\"beta\")\n",
    "_ = ax.set_ylabel(\"c\")"
   ]
  },
  {
   "cell_type": "code",
   "execution_count": 1196,
   "id": "satisfactory-alert",
   "metadata": {},
   "outputs": [
    {
     "data": {
      "image/png": "[encoded data removed]",
      "text/plain": [
       "<Figure size 432x288 with 1 Axes>"
      ]
     },
     "metadata": {
      "needs_background": "light"
     },
     "output_type": "display_data"
    }
   ],
   "source": [
    "W = linear_svm_sgd(X, y,beta_op,c_op, max_iterations=2000, stop_criterion=0.01, learning_rate=1e-2, regul_strength=1)\n",
    "scores = []\n",
    "## We look for the values of b that make sense for the fitted parameter\n",
    "values =np.linspace(-2,-0.5,100)\n",
    "for b in values:\n",
    "    ys_hat =predict_svm(W,X,beta_op,c_op,b)\n",
    "    scores.append(score(ys_hat,y))\n",
    "b_op = values[np.argmax(scores)]\n",
    "plt.title(f\"Optimal b = {b_op:.3f}\")\n",
    "plt.plot(values,scores,color='k')\n",
    "plt.grid(alpha=0.4)"
   ]
  },
  {
   "cell_type": "markdown",
   "id": "unusual-photograph",
   "metadata": {},
   "source": [
    "We optimize the value of $b$ after the crossvalitadion, we indirectely do that in the cross valitadion, but the especific value for the parameter $b$ where the score is maximize was not returned. "
   ]
  },
  {
   "cell_type": "code",
   "execution_count": 1185,
   "id": "dedicated-density",
   "metadata": {},
   "outputs": [
    {
     "name": "stdout",
     "output_type": "stream",
     "text": [
      "Accuracy Training = 70.75%\n",
      "Accuracy Test     = 68.50%\n",
      "F1 Training = 70.17%\n",
      "F1 Test     = 68.02%\n",
      "Confusion matrix Training = \n",
      " [[554 225]\n",
      " [  9  12]]\n",
      "Confusion matrix Test = \n",
      " [[134  60]\n",
      " [  3   3]]\n"
     ]
    }
   ],
   "source": [
    "y_hat = predict_svm(W,X,beta_op,c_op,b_op)\n",
    "yt_hat = predict_svm(W,Xt,beta_op,c_op,b_op)\n",
    "print(f\"Accuracy Training = {100*score(y,y_hat):.2f}%\")\n",
    "print(f'Accuracy Test     = {100*score(yt,yt_hat):.2f}%')\n",
    "print(f\"F1 Training = {100*F1score(y,y_hat):.2f}%\")\n",
    "print(f'F1 Test     = {100*F1score(yt,yt_hat):.2f}%')\n",
    "print(\"Confusion matrix Training = \\n\",confusion_matrix(y,y_hat))\n",
    "print(\"Confusion matrix Test = \\n\",confusion_matrix(yt,yt_hat))"
   ]
  },
  {
   "cell_type": "markdown",
   "id": "absent-trade",
   "metadata": {},
   "source": [
    "There results are not incredible for this model, almost all predictions goes to the 1 category, we can see that in the confusion matrix, we didn't optimize over the regulation paramter due to the computation time, the code for one single cross valitadion tool half an hour "
   ]
  },
  {
   "cell_type": "markdown",
   "id": "confirmed-problem",
   "metadata": {},
   "source": [
    "#### Hard Margin Sigmoid"
   ]
  },
  {
   "cell_type": "code",
   "execution_count": 1187,
   "id": "becoming-wisconsin",
   "metadata": {},
   "outputs": [],
   "source": [
    "def cv_svm_sigmoid(X,y,T,hypergrid):\n",
    "    \"\"\"\n",
    "    Finds the best selection of hyperparameters\n",
    "    for the data set X,y using T-folds for the \n",
    "    SVM model classification using the sigmoid\n",
    "    kernel\n",
    "    \n",
    "    :param X: an NxD numpy array\n",
    "    :param y: an Mx1 numpy array\n",
    "    :param T: an integer \n",
    "    :param hypergrid: a dictionary with parameters\n",
    "    \n",
    "    :return op_params: a tuple - the optimal parameters\n",
    "    :return Results: a LxJ numpy array\n",
    "    \"\"\"     \n",
    "    Xs,ys = data_split(X,y,T)\n",
    "    Results = np.zeros((len(hypergrid['c']),len(hypergrid['beta'])))\n",
    "    Params =np.array([(c,b) for c in hypergrid['c'] for b in hypergrid['beta']])\n",
    "    for i,c in enumerate(hypergrid['c']):\n",
    "        for k,beta in enumerate(hypergrid['beta']):\n",
    "            acc_s = []\n",
    "            for t in range(T):\n",
    "                Xcs = np.concatenate([x for i,x in enumerate(Xs) if i!=t])\n",
    "                ycs = np.concatenate([y for i,y in enumerate(ys) if i!=t])\n",
    "                W = sigmoid_svm_sgd(Xcs, ycs,beta,c, max_iterations=2000, learning_rate=1e-2, regul_strength=1e10)\n",
    "                scores = []\n",
    "                ## We look for the values of b that make sense for the fitted parameter\n",
    "                for b in np.linspace(-c,c):\n",
    "                    ycs_hat =predict_svm(W,Xs[t],beta,c,b)\n",
    "                    scores.append(F1score(ys[t],ycs_hat))\n",
    "                acc_s.append(max(scores))\n",
    "            Results[i,k] = np.mean(acc_s) \n",
    "        \n",
    "    return(Params, Results)"
   ]
  },
  {
   "cell_type": "code",
   "execution_count": 1192,
   "id": "palestinian-metabolism",
   "metadata": {},
   "outputs": [
    {
     "data": {
      "image/png": "[encoded data removed]",
      "text/plain": [
       "<Figure size 432x288 with 2 Axes>"
      ]
     },
     "metadata": {
      "needs_background": "light"
     },
     "output_type": "display_data"
    }
   ],
   "source": [
    "hypergrid = {'c':np.linspace(0,5,10),'beta':np.linspace(0.1,10,10)}\n",
    "Params, Results = cv_svm_sigmoid(X,y,5,hypergrid)\n",
    "fig, ax = plt.subplots(1,1)\n",
    "img = ax.imshow(Results,extent=[hypergrid['beta'].min(), \n",
    "                                hypergrid['beta'].max(), \n",
    "                                hypergrid['c'].max(), \n",
    "                                hypergrid['c'].min()], aspect='auto')\n",
    "op_index= np.argmax(Results)\n",
    "c_op, beta_op = Params[op_index]\n",
    "_ = fig.colorbar(img,label='Accuracy')\n",
    "_ = plt.title(f\"Optimal c = {c_op:.2f}\\n Optimal beta= {beta_op:.2f}\")\n",
    "_ = ax.set_xlabel(\"beta\")\n",
    "_ = ax.set_ylabel(\"c\")"
   ]
  },
  {
   "cell_type": "markdown",
   "id": "subtle-photography",
   "metadata": {},
   "source": [
    "Almost not dependance in the parameters due to the size of $W$"
   ]
  },
  {
   "cell_type": "code",
   "execution_count": 1201,
   "id": "worth-pixel",
   "metadata": {},
   "outputs": [
    {
     "data": {
      "image/png": "[encoded data removed]",
      "text/plain": [
       "<Figure size 432x288 with 1 Axes>"
      ]
     },
     "metadata": {
      "needs_background": "light"
     },
     "output_type": "display_data"
    }
   ],
   "source": [
    "W = linear_svm_sgd(X, y,beta_op,c_op, max_iterations=2000, stop_criterion=0.01, learning_rate=1e10, regul_strength=1)\n",
    "scores = []\n",
    "## We look for the values of b that make sense for the fitted parameter\n",
    "values =np.linspace(2,4,100)\n",
    "for b in values:\n",
    "    ys_hat =predict_svm(W,X,beta_op,c_op,b)\n",
    "    scores.append(score(ys_hat,y))\n",
    "b_op = values[np.argmax(scores)]\n",
    "plt.title(f\"Optimal b = {b_op:.3f}\")\n",
    "plt.plot(values,scores,color='k')\n",
    "plt.grid(alpha=0.4)"
   ]
  },
  {
   "cell_type": "code",
   "execution_count": 1203,
   "id": "international-violation",
   "metadata": {},
   "outputs": [
    {
     "name": "stdout",
     "output_type": "stream",
     "text": [
      "Accuracy Training = 70.38%\n",
      "Accuracy Test     = 68.50%\n",
      "F1 Training = 70.37%\n",
      "F1 Test     = 68.50%\n",
      "Confusion matrix Training = \n",
      " [[563 237]\n",
      " [  0   0]]\n",
      "Confusion matrix Test = \n",
      " [[137  63]\n",
      " [  0   0]]\n"
     ]
    }
   ],
   "source": [
    "y_hat = predict_svm(W,X,beta_op,c_op,b_op)\n",
    "yt_hat = predict_svm(W,Xt,beta_op,c_op,b_op)\n",
    "print(f\"Accuracy Training = {100*score(y,y_hat):.2f}%\")\n",
    "print(f'Accuracy Test     = {100*score(yt,yt_hat):.2f}%')\n",
    "print(f\"F1 Training = {100*F1score(y,y_hat):.2f}%\")\n",
    "print(f'F1 Test     = {100*F1score(yt,yt_hat):.2f}%')\n",
    "print(\"Confusion matrix Training = \\n\",confusion_matrix(y,y_hat))\n",
    "print(\"Confusion matrix Test = \\n\",confusion_matrix(yt,yt_hat))"
   ]
  },
  {
   "cell_type": "code",
   "execution_count": 1255,
   "id": "attempted-hours",
   "metadata": {},
   "outputs": [
    {
     "data": {
      "text/plain": [
       "array([-7.34411765e+09, -1.13500000e+10, -1.64872895e+10, -1.13500000e+10,\n",
       "        0.00000000e+00,  0.00000000e+00, -1.51333333e+10, -1.51333333e+10,\n",
       "       -1.21607143e+10, -4.54000000e+10, -4.54000000e+10])"
      ]
     },
     "execution_count": 1255,
     "metadata": {},
     "output_type": "execute_result"
    }
   ],
   "source": [
    "W\n"
   ]
  },
  {
   "cell_type": "markdown",
   "id": "alone-refund",
   "metadata": {},
   "source": [
    "Using cross validation using a large regulation strength, in order to get the hard margin of the classifier, we couldn't get higher accuracy, the size of $W$ is large, so the dependance in the parameters $\\beta$ and $c$ is low. All the predictions goes to the 1's, we can see in the confusion matrix, the model does not generalize. "
   ]
  }
 ],
 "metadata": {
  "kernelspec": {
   "display_name": "Python 3",
   "language": "python",
   "name": "python3"
  },
  "language_info": {
   "codemirror_mode": {
    "name": "ipython",
    "version": 3
   },
   "file_extension": ".py",
   "mimetype": "text/x-python",
   "name": "python",
   "nbconvert_exporter": "python",
   "pygments_lexer": "ipython3",
   "version": "3.8.8"
  }
 },
 "nbformat": 4,
 "nbformat_minor": 5
}
